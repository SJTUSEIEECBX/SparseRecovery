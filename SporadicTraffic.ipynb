{
 "cells": [
  {
   "cell_type": "markdown",
   "metadata": {
    "pycharm": {}
   },
   "source": [
    "# Simulation For Sporadic Traffic"
   ]
  },
  {
   "cell_type": "code",
   "execution_count": 1,
   "metadata": {
    "pycharm": {
     "is_executing": false
    }
   },
   "outputs": [],
   "source": [
    "import numpy as np\n",
    "import scipy.special as sp\n",
    "import torch\n",
    "from tqdm import tqdm_notebook\n",
    "from tensorboardX import SummaryWriter\n",
    "import matplotlib.pyplot as plt\n",
    "import torch.nn as nn\n",
    "from utils import *\n",
    "from DLutils import *"
   ]
  },
  {
   "cell_type": "markdown",
   "metadata": {
    "pycharm": {}
   },
   "source": [
    "Hyper Parameters"
   ]
  },
  {
   "cell_type": "code",
   "execution_count": 2,
   "metadata": {
    "pycharm": {
     "is_executing": false
    }
   },
   "outputs": [],
   "source": [
    "params = {\n",
    "    'K': 500, # number of potential users\n",
    "    'Ka': 50, # number of active users\n",
    "    'N_bs': 64, # number of receiver antennas\n",
    "    'N_ms': 1, # number of user antennas\n",
    "    'fc': 2e9, # frequency of carrier\n",
    "    'sigma2alpha': 1, # average power of path\n",
    "    'Bw': 1e7, # bandwidth\n",
    "    'fs': 1e7, # frequency of sampling\n",
    "    'N': 2048, # number of carriers\n",
    "    'P': 1, # length of pilot\n",
    "    'Lp_min': 8, # min number of pathes\n",
    "    'Lp_max': 14, # max number of pathes\n",
    "    'snr': 20, # SNR in dB\n",
    "    'simulations': 300, # total simulation numbers\n",
    "    'T_set': np.arange(30, 82, 2), # choices for time overhead\n",
    "    'Ka_set': np.arange(30, 155, 5), # choices for number of active users\n",
    "    'LR': 0.0001, # learning rate\n",
    "    'EPOCH': 400, # training epochs\n",
    "    'T': 50, # time overhead\n",
    "}\n",
    "delta_p = np.floor(params['N'] / params['P']).astype(int)\n",
    "P_set = np.linspace(delta_p, params['P'] * delta_p, params['P'])\n",
    "params.update({'P_set':  P_set})\n",
    "nvar = 10 ** (-params['snr'] / 10)\n",
    "params.update({'nvar': nvar})"
   ]
  },
  {
   "cell_type": "code",
   "execution_count": 65,
   "metadata": {
    "pycharm": {
     "is_executing": false
    }
   },
   "outputs": [
    {
     "name": "stderr",
     "output_type": "stream",
     "text": [
      "C:\\Users\\Cbx\\Anaconda3\\envs\\EE369\\lib\\site-packages\\ipykernel_launcher.py:13: RuntimeWarning: divide by zero encountered in true_divide\n",
      "  del sys.path[0]\n"
     ]
    },
    {
     "data": {
      "application/vnd.jupyter.widget-view+json": {
       "model_id": "7d39cbcc7c3e48feac0d69a93124b7e3",
       "version_major": 2,
       "version_minor": 0
      },
      "text/plain": [
       "HBox(children=(IntProgress(value=0, description='simulation', max=300, style=ProgressStyle(description_width='…"
      ]
     },
     "metadata": {},
     "output_type": "display_data"
    },
    {
     "name": "stdout",
     "output_type": "stream",
     "text": [
      "\n"
     ]
    },
    {
     "data": {
      "application/vnd.jupyter.widget-view+json": {
       "model_id": "5fc89bbab5e4432cacf51acfb210cd8f",
       "version_major": 2,
       "version_minor": 0
      },
      "text/plain": [
       "HBox(children=(IntProgress(value=0, description='simulation', max=300, style=ProgressStyle(description_width='…"
      ]
     },
     "metadata": {},
     "output_type": "display_data"
    },
    {
     "name": "stdout",
     "output_type": "stream",
     "text": [
      "\n"
     ]
    },
    {
     "data": {
      "application/vnd.jupyter.widget-view+json": {
       "model_id": "5f18d2568c7d4b9aa2dc0d37538cb46a",
       "version_major": 2,
       "version_minor": 0
      },
      "text/plain": [
       "HBox(children=(IntProgress(value=0, description='simulation', max=300, style=ProgressStyle(description_width='…"
      ]
     },
     "metadata": {},
     "output_type": "display_data"
    },
    {
     "name": "stdout",
     "output_type": "stream",
     "text": [
      "\n"
     ]
    },
    {
     "data": {
      "application/vnd.jupyter.widget-view+json": {
       "model_id": "90a7df77d98e47a389154eadd85e58dc",
       "version_major": 2,
       "version_minor": 0
      },
      "text/plain": [
       "HBox(children=(IntProgress(value=0, description='simulation', max=300, style=ProgressStyle(description_width='…"
      ]
     },
     "metadata": {},
     "output_type": "display_data"
    },
    {
     "name": "stdout",
     "output_type": "stream",
     "text": [
      "\n"
     ]
    },
    {
     "data": {
      "application/vnd.jupyter.widget-view+json": {
       "model_id": "02d6dcc26d9540c89c684f6603856d5e",
       "version_major": 2,
       "version_minor": 0
      },
      "text/plain": [
       "HBox(children=(IntProgress(value=0, description='simulation', max=300, style=ProgressStyle(description_width='…"
      ]
     },
     "metadata": {},
     "output_type": "display_data"
    },
    {
     "name": "stdout",
     "output_type": "stream",
     "text": [
      "\n"
     ]
    },
    {
     "data": {
      "application/vnd.jupyter.widget-view+json": {
       "model_id": "9f8fad8c63ad42a1bf0a7ac0bd694a9e",
       "version_major": 2,
       "version_minor": 0
      },
      "text/plain": [
       "HBox(children=(IntProgress(value=0, description='simulation', max=300, style=ProgressStyle(description_width='…"
      ]
     },
     "metadata": {},
     "output_type": "display_data"
    },
    {
     "name": "stdout",
     "output_type": "stream",
     "text": [
      "\n"
     ]
    },
    {
     "data": {
      "application/vnd.jupyter.widget-view+json": {
       "model_id": "13dc04bc264e4202b469a8e503bb313b",
       "version_major": 2,
       "version_minor": 0
      },
      "text/plain": [
       "HBox(children=(IntProgress(value=0, description='simulation', max=300, style=ProgressStyle(description_width='…"
      ]
     },
     "metadata": {},
     "output_type": "display_data"
    },
    {
     "name": "stdout",
     "output_type": "stream",
     "text": [
      "\n"
     ]
    },
    {
     "data": {
      "application/vnd.jupyter.widget-view+json": {
       "model_id": "90bcbf9380694d6a91ced620ff0ff93c",
       "version_major": 2,
       "version_minor": 0
      },
      "text/plain": [
       "HBox(children=(IntProgress(value=0, description='simulation', max=300, style=ProgressStyle(description_width='…"
      ]
     },
     "metadata": {},
     "output_type": "display_data"
    },
    {
     "name": "stdout",
     "output_type": "stream",
     "text": [
      "\n"
     ]
    },
    {
     "data": {
      "application/vnd.jupyter.widget-view+json": {
       "model_id": "242478902d08490e992429d8157be6ef",
       "version_major": 2,
       "version_minor": 0
      },
      "text/plain": [
       "HBox(children=(IntProgress(value=0, description='simulation', max=300, style=ProgressStyle(description_width='…"
      ]
     },
     "metadata": {},
     "output_type": "display_data"
    },
    {
     "name": "stdout",
     "output_type": "stream",
     "text": [
      "\n"
     ]
    },
    {
     "data": {
      "application/vnd.jupyter.widget-view+json": {
       "model_id": "d2e3b93d0b854cc4a2260e918aec466d",
       "version_major": 2,
       "version_minor": 0
      },
      "text/plain": [
       "HBox(children=(IntProgress(value=0, description='simulation', max=300, style=ProgressStyle(description_width='…"
      ]
     },
     "metadata": {},
     "output_type": "display_data"
    },
    {
     "name": "stdout",
     "output_type": "stream",
     "text": [
      "\n"
     ]
    },
    {
     "data": {
      "application/vnd.jupyter.widget-view+json": {
       "model_id": "63a92671b70b43de91f40dd026ea9517",
       "version_major": 2,
       "version_minor": 0
      },
      "text/plain": [
       "HBox(children=(IntProgress(value=0, description='simulation', max=300, style=ProgressStyle(description_width='…"
      ]
     },
     "metadata": {},
     "output_type": "display_data"
    },
    {
     "name": "stdout",
     "output_type": "stream",
     "text": [
      "\n"
     ]
    },
    {
     "data": {
      "application/vnd.jupyter.widget-view+json": {
       "model_id": "db897092753641ed823fcf6773654123",
       "version_major": 2,
       "version_minor": 0
      },
      "text/plain": [
       "HBox(children=(IntProgress(value=0, description='simulation', max=300, style=ProgressStyle(description_width='…"
      ]
     },
     "metadata": {},
     "output_type": "display_data"
    },
    {
     "name": "stdout",
     "output_type": "stream",
     "text": [
      "\n"
     ]
    },
    {
     "data": {
      "application/vnd.jupyter.widget-view+json": {
       "model_id": "1fdb0071773a4c109f1b17b88edb327e",
       "version_major": 2,
       "version_minor": 0
      },
      "text/plain": [
       "HBox(children=(IntProgress(value=0, description='simulation', max=300, style=ProgressStyle(description_width='…"
      ]
     },
     "metadata": {},
     "output_type": "display_data"
    },
    {
     "name": "stdout",
     "output_type": "stream",
     "text": [
      "\n"
     ]
    },
    {
     "data": {
      "application/vnd.jupyter.widget-view+json": {
       "model_id": "ff15f0033e684a5a8e4b4a5b43980d7a",
       "version_major": 2,
       "version_minor": 0
      },
      "text/plain": [
       "HBox(children=(IntProgress(value=0, description='simulation', max=300, style=ProgressStyle(description_width='…"
      ]
     },
     "metadata": {},
     "output_type": "display_data"
    },
    {
     "name": "stdout",
     "output_type": "stream",
     "text": [
      "\n"
     ]
    },
    {
     "data": {
      "application/vnd.jupyter.widget-view+json": {
       "model_id": "af2637e2cf9b4240aaaa5bc5dc3e9d99",
       "version_major": 2,
       "version_minor": 0
      },
      "text/plain": [
       "HBox(children=(IntProgress(value=0, description='simulation', max=300, style=ProgressStyle(description_width='…"
      ]
     },
     "metadata": {},
     "output_type": "display_data"
    },
    {
     "name": "stdout",
     "output_type": "stream",
     "text": [
      "\n"
     ]
    },
    {
     "data": {
      "application/vnd.jupyter.widget-view+json": {
       "model_id": "857859ed9b8a4f80b73460a326c1acf0",
       "version_major": 2,
       "version_minor": 0
      },
      "text/plain": [
       "HBox(children=(IntProgress(value=0, description='simulation', max=300, style=ProgressStyle(description_width='…"
      ]
     },
     "metadata": {},
     "output_type": "display_data"
    },
    {
     "name": "stdout",
     "output_type": "stream",
     "text": [
      "\n"
     ]
    },
    {
     "data": {
      "application/vnd.jupyter.widget-view+json": {
       "model_id": "67ee901bd8f04cc3a50e4989934c6a8d",
       "version_major": 2,
       "version_minor": 0
      },
      "text/plain": [
       "HBox(children=(IntProgress(value=0, description='simulation', max=300, style=ProgressStyle(description_width='…"
      ]
     },
     "metadata": {},
     "output_type": "display_data"
    },
    {
     "name": "stdout",
     "output_type": "stream",
     "text": [
      "\n"
     ]
    },
    {
     "data": {
      "application/vnd.jupyter.widget-view+json": {
       "model_id": "96b5578a1d3d4cbb8926718133ed64d2",
       "version_major": 2,
       "version_minor": 0
      },
      "text/plain": [
       "HBox(children=(IntProgress(value=0, description='simulation', max=300, style=ProgressStyle(description_width='…"
      ]
     },
     "metadata": {},
     "output_type": "display_data"
    },
    {
     "name": "stdout",
     "output_type": "stream",
     "text": [
      "\n"
     ]
    },
    {
     "data": {
      "application/vnd.jupyter.widget-view+json": {
       "model_id": "0ed6a31919e84252b4ac5b5e043b033a",
       "version_major": 2,
       "version_minor": 0
      },
      "text/plain": [
       "HBox(children=(IntProgress(value=0, description='simulation', max=300, style=ProgressStyle(description_width='…"
      ]
     },
     "metadata": {},
     "output_type": "display_data"
    },
    {
     "name": "stdout",
     "output_type": "stream",
     "text": [
      "\n"
     ]
    },
    {
     "data": {
      "application/vnd.jupyter.widget-view+json": {
       "model_id": "4b9894628ad74936a4e522bc5d853b6d",
       "version_major": 2,
       "version_minor": 0
      },
      "text/plain": [
       "HBox(children=(IntProgress(value=0, description='simulation', max=300, style=ProgressStyle(description_width='…"
      ]
     },
     "metadata": {},
     "output_type": "display_data"
    },
    {
     "name": "stdout",
     "output_type": "stream",
     "text": [
      "\n"
     ]
    },
    {
     "data": {
      "application/vnd.jupyter.widget-view+json": {
       "model_id": "52863fc1e9214aab92e4fc2f1e27adf0",
       "version_major": 2,
       "version_minor": 0
      },
      "text/plain": [
       "HBox(children=(IntProgress(value=0, description='simulation', max=300, style=ProgressStyle(description_width='…"
      ]
     },
     "metadata": {},
     "output_type": "display_data"
    },
    {
     "name": "stdout",
     "output_type": "stream",
     "text": [
      "\n"
     ]
    },
    {
     "data": {
      "application/vnd.jupyter.widget-view+json": {
       "model_id": "1c540aba863e407682524b3c78a3e72d",
       "version_major": 2,
       "version_minor": 0
      },
      "text/plain": [
       "HBox(children=(IntProgress(value=0, description='simulation', max=300, style=ProgressStyle(description_width='…"
      ]
     },
     "metadata": {},
     "output_type": "display_data"
    },
    {
     "name": "stdout",
     "output_type": "stream",
     "text": [
      "\n"
     ]
    },
    {
     "data": {
      "application/vnd.jupyter.widget-view+json": {
       "model_id": "3037f4f64c93425bbd36005ace55fcb9",
       "version_major": 2,
       "version_minor": 0
      },
      "text/plain": [
       "HBox(children=(IntProgress(value=0, description='simulation', max=300, style=ProgressStyle(description_width='…"
      ]
     },
     "metadata": {},
     "output_type": "display_data"
    },
    {
     "name": "stdout",
     "output_type": "stream",
     "text": [
      "\n"
     ]
    },
    {
     "data": {
      "application/vnd.jupyter.widget-view+json": {
       "model_id": "ae4272541c024242a9782534c533ce07",
       "version_major": 2,
       "version_minor": 0
      },
      "text/plain": [
       "HBox(children=(IntProgress(value=0, description='simulation', max=300, style=ProgressStyle(description_width='…"
      ]
     },
     "metadata": {},
     "output_type": "display_data"
    },
    {
     "name": "stdout",
     "output_type": "stream",
     "text": [
      "\n"
     ]
    },
    {
     "data": {
      "application/vnd.jupyter.widget-view+json": {
       "model_id": "75f29c11cf7c487b912aceb6f4f030e9",
       "version_major": 2,
       "version_minor": 0
      },
      "text/plain": [
       "HBox(children=(IntProgress(value=0, description='simulation', max=300, style=ProgressStyle(description_width='…"
      ]
     },
     "metadata": {},
     "output_type": "display_data"
    },
    {
     "name": "stdout",
     "output_type": "stream",
     "text": [
      "\n"
     ]
    },
    {
     "data": {
      "application/vnd.jupyter.widget-view+json": {
       "model_id": "ed93d217b25646f09da985ec93acbfab",
       "version_major": 2,
       "version_minor": 0
      },
      "text/plain": [
       "HBox(children=(IntProgress(value=0, description='simulation', max=300, style=ProgressStyle(description_width='…"
      ]
     },
     "metadata": {},
     "output_type": "display_data"
    },
    {
     "name": "stdout",
     "output_type": "stream",
     "text": [
      "\n"
     ]
    }
   ],
   "source": [
    "Pe_p = np.zeros(params['T_set'].shape)\n",
    "FA_p = np.zeros(params['T_set'].shape)\n",
    "FM_p = np.zeros(params['T_set'].shape)\n",
    "NMSE = np.zeros(params['T_set'].shape)\n",
    "Pe_h = np.zeros(params['T_set'].shape)\n",
    "FA_h = np.zeros(params['T_set'].shape)\n",
    "FM_h = np.zeros(params['T_set'].shape)\n",
    "for i, T in enumerate(params['T_set']):\n",
    "    H_f, H_a, activity = generate_batched_active_channel(params)\n",
    "    pilot = generate_random_pilot(T, params['K'], params['P'], params['simulations'])\n",
    "    y = pilot_through_channel(pilot, H_f, params['nvar'])\n",
    "    \n",
    "    xhat, lamda, iteration, NMSE_watch = dmmv_amp_detection(y, pilot)\n",
    "    \n",
    "    act_lam = lamda_aud(lamda, params['N_bs'])\n",
    "    act_ch = channel_aud(xhat, params['N_bs'])\n",
    "    Pe_p[i], FA_p[i], FM_p[i], NMSE[i] = performance(act_lam, activity, xhat, H_f)\n",
    "    Pe_h[i], FA_h[i], FM_h[i], _ = performance(act_ch, activity, xhat, H_f)\n"
   ]
  },
  {
   "cell_type": "code",
   "execution_count": 3,
   "metadata": {
    "pycharm": {}
   },
   "outputs": [],
   "source": [
    "from matplotlib import rc\n",
    "rc('font',**{'family':'serif','serif':['Palatino']})\n",
    "## for Palatino and other serif fonts use:\n",
    "#rc('font',**{'family':'serif','serif':['Palatino']})\n",
    "rc('text', usetex=True)"
   ]
  },
  {
   "cell_type": "code",
   "execution_count": 69,
   "metadata": {
    "pycharm": {
     "is_executing": false,
     "metadata": false,
     "name": "#%%\n"
    }
   },
   "outputs": [
    {
     "data": {
      "image/png": "[encoded data removed]",
      "text/plain": [
       "<Figure size 432x288 with 1 Axes>"
      ]
     },
     "metadata": {
      "needs_background": "light"
     },
     "output_type": "display_data"
    }
   ],
   "source": [
    "plt.semilogy(params['T_set'], Pe_p, '-o')\n",
    "plt.semilogy(params['T_set'], Pe_h, '--^')\n",
    "plt.xlim([30, 80])\n",
    "plt.grid(True, linestyle='-.')\n",
    "plt.minorticks_on()\n",
    "plt.grid(b=True, which='minor', color='#999999', linestyle='-.', alpha=0.2)\n",
    "plt.legend(['$P_e^{param}$', '$P_e^{ch}$'])\n",
    "plt.xlabel('Time Overhead $G/time\\ slot$')\n",
    "plt.ylabel('Error Probability $P_e$')\n",
    "plt.savefig(fname='Probability_of_errorKa100.pdf')\n",
    "plt.show()"
   ]
  },
  {
   "cell_type": "code",
   "execution_count": 67,
   "metadata": {
    "pycharm": {}
   },
   "outputs": [
    {
     "data": {
      "image/png": "[encoded data removed]",
      "text/plain": [
       "<Figure size 432x288 with 1 Axes>"
      ]
     },
     "metadata": {
      "needs_background": "light"
     },
     "output_type": "display_data"
    }
   ],
   "source": [
    "plt.semilogy(params['T_set'], NMSE, 'r-o')\n",
    "plt.xlim([30, 80])\n",
    "plt.grid(which='major', linestyle='-.')\n",
    "plt.minorticks_on()\n",
    "plt.grid(b=True, which='minor', color='#999999', linestyle='-.', alpha=0.2)\n",
    "plt.xlabel('Time Overhead $G/time\\ slot$')\n",
    "plt.ylabel('NMSE')\n",
    "plt.savefig(fname='NMSEKa100.pdf')\n",
    "plt.show()"
   ]
  },
  {
   "cell_type": "code",
   "execution_count": 68,
   "metadata": {
    "pycharm": {}
   },
   "outputs": [],
   "source": [
    "np.savez('K500Ka100NBS64SNR20sim300AMP.npz', Pe_p, FM_p, FA_p, Pe_h, FM_h, FA_h, NMSE)"
   ]
  },
  {
   "cell_type": "code",
   "execution_count": 71,
   "metadata": {
    "pycharm": {}
   },
   "outputs": [
    {
     "name": "stderr",
     "output_type": "stream",
     "text": [
      "C:\\Users\\Cbx\\Anaconda3\\envs\\EE369\\lib\\site-packages\\ipykernel_launcher.py:13: RuntimeWarning: divide by zero encountered in true_divide\n",
      "  del sys.path[0]\n"
     ]
    },
    {
     "data": {
      "application/vnd.jupyter.widget-view+json": {
       "model_id": "4fdf6a470e0e4914ae7fe6ec89327fae",
       "version_major": 2,
       "version_minor": 0
      },
      "text/plain": [
       "HBox(children=(IntProgress(value=0, description='simulation', max=300, style=ProgressStyle(description_width='…"
      ]
     },
     "metadata": {},
     "output_type": "display_data"
    },
    {
     "name": "stdout",
     "output_type": "stream",
     "text": [
      "\n"
     ]
    },
    {
     "data": {
      "application/vnd.jupyter.widget-view+json": {
       "model_id": "05a1d6875a174418b464f75484adf6a8",
       "version_major": 2,
       "version_minor": 0
      },
      "text/plain": [
       "HBox(children=(IntProgress(value=0, description='simulation', max=300, style=ProgressStyle(description_width='…"
      ]
     },
     "metadata": {},
     "output_type": "display_data"
    },
    {
     "name": "stdout",
     "output_type": "stream",
     "text": [
      "\n"
     ]
    },
    {
     "data": {
      "application/vnd.jupyter.widget-view+json": {
       "model_id": "8657755f99c4476685c197b369b7327c",
       "version_major": 2,
       "version_minor": 0
      },
      "text/plain": [
       "HBox(children=(IntProgress(value=0, description='simulation', max=300, style=ProgressStyle(description_width='…"
      ]
     },
     "metadata": {},
     "output_type": "display_data"
    },
    {
     "name": "stdout",
     "output_type": "stream",
     "text": [
      "\n"
     ]
    },
    {
     "data": {
      "application/vnd.jupyter.widget-view+json": {
       "model_id": "1b474b53ca2d4e3a8b4915b33ba26d7b",
       "version_major": 2,
       "version_minor": 0
      },
      "text/plain": [
       "HBox(children=(IntProgress(value=0, description='simulation', max=300, style=ProgressStyle(description_width='…"
      ]
     },
     "metadata": {},
     "output_type": "display_data"
    },
    {
     "name": "stdout",
     "output_type": "stream",
     "text": [
      "\n"
     ]
    },
    {
     "data": {
      "application/vnd.jupyter.widget-view+json": {
       "model_id": "864c475a2cea4aa883c3dc5938bb7df0",
       "version_major": 2,
       "version_minor": 0
      },
      "text/plain": [
       "HBox(children=(IntProgress(value=0, description='simulation', max=300, style=ProgressStyle(description_width='…"
      ]
     },
     "metadata": {},
     "output_type": "display_data"
    },
    {
     "name": "stdout",
     "output_type": "stream",
     "text": [
      "\n"
     ]
    },
    {
     "data": {
      "application/vnd.jupyter.widget-view+json": {
       "model_id": "fc6cb695c4c74e10894093084b1ed19b",
       "version_major": 2,
       "version_minor": 0
      },
      "text/plain": [
       "HBox(children=(IntProgress(value=0, description='simulation', max=300, style=ProgressStyle(description_width='…"
      ]
     },
     "metadata": {},
     "output_type": "display_data"
    },
    {
     "name": "stdout",
     "output_type": "stream",
     "text": [
      "\n"
     ]
    },
    {
     "data": {
      "application/vnd.jupyter.widget-view+json": {
       "model_id": "6d6e0e0ed78947cb9c64ad7603e76739",
       "version_major": 2,
       "version_minor": 0
      },
      "text/plain": [
       "HBox(children=(IntProgress(value=0, description='simulation', max=300, style=ProgressStyle(description_width='…"
      ]
     },
     "metadata": {},
     "output_type": "display_data"
    },
    {
     "name": "stdout",
     "output_type": "stream",
     "text": [
      "\n"
     ]
    },
    {
     "data": {
      "application/vnd.jupyter.widget-view+json": {
       "model_id": "f840bc8959414f07b3f673b196bf19ae",
       "version_major": 2,
       "version_minor": 0
      },
      "text/plain": [
       "HBox(children=(IntProgress(value=0, description='simulation', max=300, style=ProgressStyle(description_width='…"
      ]
     },
     "metadata": {},
     "output_type": "display_data"
    },
    {
     "name": "stdout",
     "output_type": "stream",
     "text": [
      "\n"
     ]
    },
    {
     "data": {
      "application/vnd.jupyter.widget-view+json": {
       "model_id": "e4092a4605414c41bcc0cb42f34d0291",
       "version_major": 2,
       "version_minor": 0
      },
      "text/plain": [
       "HBox(children=(IntProgress(value=0, description='simulation', max=300, style=ProgressStyle(description_width='…"
      ]
     },
     "metadata": {},
     "output_type": "display_data"
    },
    {
     "name": "stdout",
     "output_type": "stream",
     "text": [
      "\n"
     ]
    },
    {
     "data": {
      "application/vnd.jupyter.widget-view+json": {
       "model_id": "2310de3c3d784d819859228ba4d50e60",
       "version_major": 2,
       "version_minor": 0
      },
      "text/plain": [
       "HBox(children=(IntProgress(value=0, description='simulation', max=300, style=ProgressStyle(description_width='…"
      ]
     },
     "metadata": {},
     "output_type": "display_data"
    },
    {
     "name": "stdout",
     "output_type": "stream",
     "text": [
      "\n"
     ]
    },
    {
     "data": {
      "application/vnd.jupyter.widget-view+json": {
       "model_id": "12e48505bd71454aabdb2358c27776a6",
       "version_major": 2,
       "version_minor": 0
      },
      "text/plain": [
       "HBox(children=(IntProgress(value=0, description='simulation', max=300, style=ProgressStyle(description_width='…"
      ]
     },
     "metadata": {},
     "output_type": "display_data"
    },
    {
     "name": "stdout",
     "output_type": "stream",
     "text": [
      "\n"
     ]
    },
    {
     "data": {
      "application/vnd.jupyter.widget-view+json": {
       "model_id": "1c4ec10719e64b03a424b7300c4e8713",
       "version_major": 2,
       "version_minor": 0
      },
      "text/plain": [
       "HBox(children=(IntProgress(value=0, description='simulation', max=300, style=ProgressStyle(description_width='…"
      ]
     },
     "metadata": {},
     "output_type": "display_data"
    },
    {
     "name": "stdout",
     "output_type": "stream",
     "text": [
      "\n"
     ]
    },
    {
     "data": {
      "application/vnd.jupyter.widget-view+json": {
       "model_id": "c648e5b7d52e4ba4bb37be7f67fa7d30",
       "version_major": 2,
       "version_minor": 0
      },
      "text/plain": [
       "HBox(children=(IntProgress(value=0, description='simulation', max=300, style=ProgressStyle(description_width='…"
      ]
     },
     "metadata": {},
     "output_type": "display_data"
    },
    {
     "name": "stdout",
     "output_type": "stream",
     "text": [
      "\n"
     ]
    },
    {
     "data": {
      "application/vnd.jupyter.widget-view+json": {
       "model_id": "5b1f2d05999b4905b391f090f1b62d5d",
       "version_major": 2,
       "version_minor": 0
      },
      "text/plain": [
       "HBox(children=(IntProgress(value=0, description='simulation', max=300, style=ProgressStyle(description_width='…"
      ]
     },
     "metadata": {},
     "output_type": "display_data"
    },
    {
     "name": "stdout",
     "output_type": "stream",
     "text": [
      "\n"
     ]
    },
    {
     "data": {
      "application/vnd.jupyter.widget-view+json": {
       "model_id": "662a8ff3d390465e9b0b209c445b7bd1",
       "version_major": 2,
       "version_minor": 0
      },
      "text/plain": [
       "HBox(children=(IntProgress(value=0, description='simulation', max=300, style=ProgressStyle(description_width='…"
      ]
     },
     "metadata": {},
     "output_type": "display_data"
    },
    {
     "name": "stdout",
     "output_type": "stream",
     "text": [
      "\n"
     ]
    },
    {
     "data": {
      "application/vnd.jupyter.widget-view+json": {
       "model_id": "8fa61b4bd9464eebb573403e8ca407f9",
       "version_major": 2,
       "version_minor": 0
      },
      "text/plain": [
       "HBox(children=(IntProgress(value=0, description='simulation', max=300, style=ProgressStyle(description_width='…"
      ]
     },
     "metadata": {},
     "output_type": "display_data"
    },
    {
     "name": "stdout",
     "output_type": "stream",
     "text": [
      "\n"
     ]
    },
    {
     "data": {
      "application/vnd.jupyter.widget-view+json": {
       "model_id": "391f5e11842746ad966e647af35413ba",
       "version_major": 2,
       "version_minor": 0
      },
      "text/plain": [
       "HBox(children=(IntProgress(value=0, description='simulation', max=300, style=ProgressStyle(description_width='…"
      ]
     },
     "metadata": {},
     "output_type": "display_data"
    },
    {
     "name": "stdout",
     "output_type": "stream",
     "text": [
      "\n"
     ]
    },
    {
     "data": {
      "application/vnd.jupyter.widget-view+json": {
       "model_id": "5861dbf8d80a453dafa64fc67ef780ad",
       "version_major": 2,
       "version_minor": 0
      },
      "text/plain": [
       "HBox(children=(IntProgress(value=0, description='simulation', max=300, style=ProgressStyle(description_width='…"
      ]
     },
     "metadata": {},
     "output_type": "display_data"
    },
    {
     "name": "stdout",
     "output_type": "stream",
     "text": [
      "\n"
     ]
    },
    {
     "data": {
      "application/vnd.jupyter.widget-view+json": {
       "model_id": "f7a7074be4f2412ab7c61e8985c1e817",
       "version_major": 2,
       "version_minor": 0
      },
      "text/plain": [
       "HBox(children=(IntProgress(value=0, description='simulation', max=300, style=ProgressStyle(description_width='…"
      ]
     },
     "metadata": {},
     "output_type": "display_data"
    },
    {
     "name": "stdout",
     "output_type": "stream",
     "text": [
      "\n"
     ]
    },
    {
     "data": {
      "application/vnd.jupyter.widget-view+json": {
       "model_id": "6a30131275cf49ac8954b2019ba95f09",
       "version_major": 2,
       "version_minor": 0
      },
      "text/plain": [
       "HBox(children=(IntProgress(value=0, description='simulation', max=300, style=ProgressStyle(description_width='…"
      ]
     },
     "metadata": {},
     "output_type": "display_data"
    },
    {
     "name": "stdout",
     "output_type": "stream",
     "text": [
      "\n"
     ]
    },
    {
     "data": {
      "application/vnd.jupyter.widget-view+json": {
       "model_id": "4284af2eb2a14e34a4bfc6b3298459c2",
       "version_major": 2,
       "version_minor": 0
      },
      "text/plain": [
       "HBox(children=(IntProgress(value=0, description='simulation', max=300, style=ProgressStyle(description_width='…"
      ]
     },
     "metadata": {},
     "output_type": "display_data"
    },
    {
     "name": "stdout",
     "output_type": "stream",
     "text": [
      "\n"
     ]
    },
    {
     "data": {
      "application/vnd.jupyter.widget-view+json": {
       "model_id": "20cc63c8439d4b0081a2b92901f3ea59",
       "version_major": 2,
       "version_minor": 0
      },
      "text/plain": [
       "HBox(children=(IntProgress(value=0, description='simulation', max=300, style=ProgressStyle(description_width='…"
      ]
     },
     "metadata": {},
     "output_type": "display_data"
    },
    {
     "name": "stdout",
     "output_type": "stream",
     "text": [
      "\n"
     ]
    },
    {
     "data": {
      "application/vnd.jupyter.widget-view+json": {
       "model_id": "7253119a7cac446781d639fde868374a",
       "version_major": 2,
       "version_minor": 0
      },
      "text/plain": [
       "HBox(children=(IntProgress(value=0, description='simulation', max=300, style=ProgressStyle(description_width='…"
      ]
     },
     "metadata": {},
     "output_type": "display_data"
    },
    {
     "name": "stdout",
     "output_type": "stream",
     "text": [
      "\n"
     ]
    },
    {
     "data": {
      "application/vnd.jupyter.widget-view+json": {
       "model_id": "75cb4f0863c44f39bd44c8c14f735ee8",
       "version_major": 2,
       "version_minor": 0
      },
      "text/plain": [
       "HBox(children=(IntProgress(value=0, description='simulation', max=300, style=ProgressStyle(description_width='…"
      ]
     },
     "metadata": {},
     "output_type": "display_data"
    },
    {
     "name": "stdout",
     "output_type": "stream",
     "text": [
      "\n"
     ]
    },
    {
     "data": {
      "application/vnd.jupyter.widget-view+json": {
       "model_id": "a1c95656e566448d87e2039e8e1ed575",
       "version_major": 2,
       "version_minor": 0
      },
      "text/plain": [
       "HBox(children=(IntProgress(value=0, description='simulation', max=300, style=ProgressStyle(description_width='…"
      ]
     },
     "metadata": {},
     "output_type": "display_data"
    },
    {
     "name": "stdout",
     "output_type": "stream",
     "text": [
      "\n"
     ]
    }
   ],
   "source": [
    "Pe_p = np.zeros(params['Ka_set'].shape)\n",
    "FA_p = np.zeros(params['Ka_set'].shape)\n",
    "FM_p = np.zeros(params['Ka_set'].shape)\n",
    "NMSE = np.zeros(params['Ka_set'].shape)\n",
    "Pe_h = np.zeros(params['Ka_set'].shape)\n",
    "FA_h = np.zeros(params['Ka_set'].shape)\n",
    "FM_h = np.zeros(params['Ka_set'].shape)\n",
    "for i, Ka in enumerate(params['Ka_set']):\n",
    "    params['Ka'] = Ka\n",
    "    H_f, H_a, activity = generate_batched_active_channel(params)\n",
    "    pilot = generate_random_pilot(50, params['K'], params['P'], params['simulations'])\n",
    "    y = pilot_through_channel(pilot, H_f, params['nvar'])\n",
    "    \n",
    "    xhat, lamda, iteration, NMSE_watch = dmmv_amp_detection(y, pilot)\n",
    "    \n",
    "    act_lam = lamda_aud(lamda, params['N_bs'])\n",
    "    act_ch = channel_aud(xhat, params['N_bs'])\n",
    "    Pe_p[i], FA_p[i], FM_p[i], NMSE[i] = performance(act_lam, activity, xhat, H_f)\n",
    "    Pe_h[i], FA_h[i], FM_h[i], _ = performance(act_ch, activity, xhat, H_f)"
   ]
  },
  {
   "cell_type": "code",
   "execution_count": 84,
   "metadata": {
    "pycharm": {}
   },
   "outputs": [
    {
     "name": "stderr",
     "output_type": "stream",
     "text": [
      "findfont: Font family ['serif'] not found. Falling back to DejaVu Sans.\n"
     ]
    },
    {
     "data": {
      "image/png": "[encoded data removed]",
      "text/plain": [
       "<Figure size 432x288 with 1 Axes>"
      ]
     },
     "metadata": {
      "needs_background": "light"
     },
     "output_type": "display_data"
    }
   ],
   "source": [
    "plt.semilogy(params['Ka_set'], Pe_p, '-o')\n",
    "plt.semilogy(params['Ka_set'], Pe_h, '--^')\n",
    "plt.xlim([30, 150])\n",
    "plt.grid(True, linestyle='-.')\n",
    "plt.minorticks_on()\n",
    "plt.grid(b=True, which='minor', color='#999999', linestyle='-.', alpha=0.2)\n",
    "plt.legend(['$P_e^{param}$', '$P_e^{ch}$'])\n",
    "plt.xlabel('Active Users $K_a$')\n",
    "plt.ylabel('Error Probability $P_e$')\n",
    "plt.savefig(fname='Probability_of_errorT50.pdf')\n",
    "plt.show()"
   ]
  },
  {
   "cell_type": "code",
   "execution_count": 81,
   "metadata": {
    "pycharm": {}
   },
   "outputs": [
    {
     "data": {
      "image/png": "[encoded data removed]",
      "text/plain": [
       "<Figure size 432x288 with 1 Axes>"
      ]
     },
     "metadata": {
      "needs_background": "light"
     },
     "output_type": "display_data"
    }
   ],
   "source": [
    "plt.semilogy(params['Ka_set'], NMSE, 'r-o')\n",
    "plt.xlim([30, 150])\n",
    "plt.grid(which='major', linestyle='-.')\n",
    "plt.minorticks_on()\n",
    "plt.grid(b=True, which='minor', color='#999999', linestyle='-.', alpha=0.2)\n",
    "plt.xlabel('Active Users $K_a$')\n",
    "plt.ylabel('NMSE')\n",
    "plt.savefig(fname='NMSET50.pdf')\n",
    "plt.show()"
   ]
  },
  {
   "cell_type": "code",
   "execution_count": 79,
   "metadata": {
    "pycharm": {}
   },
   "outputs": [],
   "source": [
    "np.savez('K500T50NBS64SNR20sim300AMP.npz', Pe_p, FM_p, FA_p, Pe_h, FM_h, FA_h, NMSE)"
   ]
  },
  {
   "cell_type": "code",
   "execution_count": 23,
   "metadata": {},
   "outputs": [],
   "source": [
    "class ActNet(nn.Module):\n",
    "    def __init__(self, N_bs, K, T):\n",
    "        super(ActNet, self).__init__()\n",
    "        self.K = K\n",
    "        self.N_bs = N_bs\n",
    "        self.T = T\n",
    "        self.pilot_real = nn.Parameter(torch.FloatTensor(K, T))\n",
    "        self.pilot_imag = nn.Parameter(torch.FloatTensor(K, T))\n",
    "        self.decoder = nn.Sequential(\n",
    "            nn.Linear(2 * T * N_bs, 2 * T * N_bs),\n",
    "            nn.BatchNorm1d(2 * T * N_bs),\n",
    "            nn.ReLU(inplace=True),\n",
    "            nn.Dropout(0.5),\n",
    "            nn.Linear(2 * T * N_bs, 2 * T * N_bs),\n",
    "            nn.BatchNorm1d(2 * T * N_bs),\n",
    "            nn.ReLU(inplace=True),\n",
    "            nn.Dropout(0.5),\n",
    "            nn.Linear(2 * T * N_bs, 2 * T * N_bs),\n",
    "            nn.BatchNorm1d(2 * T * N_bs),\n",
    "            nn.ReLU(inplace=True),\n",
    "            nn.Dropout(0.5),\n",
    "            nn.Linear(2 * T * N_bs, K),\n",
    "            nn.Sigmoid(),\n",
    "        )\n",
    "        nn.init.orthogonal_(self.pilot_real)\n",
    "        nn.init.orthogonal_(self.pilot_imag)\n",
    "        \n",
    "    def forward(self, channel_real, channel_imag, nvar):\n",
    "        noise_real = (np.sqrt(nvar / 2) * torch.randn(self.N_bs, self.T)).cuda()\n",
    "        noise_imag = (np.sqrt(nvar / 2) * torch.randn(self.N_bs, self.T)).cuda()\n",
    "        y_real = channel_real.matmul(self.pilot_real) - channel_imag.matmul(self.pilot_imag) + noise_real\n",
    "        y_imag = channel_imag.matmul(self.pilot_real) + channel_real.matmul(self.pilot_imag) + noise_imag\n",
    "        y = torch.cat((y_real, y_imag), dim=1).view(y_real.shape[0], -1)\n",
    "        activity = self.decoder(y)\n",
    "        return activity.squeeze()"
   ]
  },
  {
   "cell_type": "code",
   "execution_count": 12,
   "metadata": {},
   "outputs": [],
   "source": [
    "def cpxmm(a_real, a_imag, b_real, b_imag):\n",
    "    res_real = a_real.matmul(b_real) - a_imag.matmul(b_imag)\n",
    "    res_imag = a_real.matmul(b_imag) + a_imag.matmul(b_real)\n",
    "    return res_real, res_imag\n",
    "\n",
    "\n",
    "class ResLayer(nn.Module):\n",
    "    def __init__(self, K, T, N_bs):\n",
    "        super(ResLayer, self).__init__()\n",
    "        self.W_real = nn.Parameter(torch.FloatTensor(T, K))\n",
    "        self.W_imag = nn.Parameter(torch.FloatTensor(T, K))\n",
    "        self.b_real = nn.Parameter(torch.FloatTensor(N_bs, K))\n",
    "        self.b_imag = nn.Parameter(torch.FloatTensor(N_bs, K))\n",
    "        self.W1_real = nn.Parameter(torch.FloatTensor(N_bs, N_bs))\n",
    "        self.W1_imag = nn.Parameter(torch.FloatTensor(N_bs, N_bs))\n",
    "        self.b1_real = nn.Parameter(torch.FloatTensor(N_bs, K))\n",
    "        self.b1_imag = nn.Parameter(torch.FloatTensor(N_bs, K))\n",
    "        self.activate_real = nn.LeakyReLU()\n",
    "        self.activate_imag = nn.LeakyReLU()\n",
    "        self.activate1_real = nn.Tanh()\n",
    "        self.activate1_imag = nn.Tanh()\n",
    "        nn.init.constant_(self.W_real, 0)\n",
    "        nn.init.constant_(self.W_imag, 0)\n",
    "        nn.init.constant_(self.b_real, 0)\n",
    "        nn.init.constant_(self.b_imag, 0)\n",
    "        nn.init.constant_(self.W1_real, 0)\n",
    "        nn.init.constant_(self.W1_imag, 0)\n",
    "        nn.init.constant_(self.b1_real, 0)\n",
    "        nn.init.constant_(self.b1_imag, 0)\n",
    "        \n",
    "    def forward(self, H_real, H_imag, P_real, P_imag, Y_real, Y_imag):\n",
    "        Y1_real, Y1_imag = cpxmm(H_real, H_imag, P_real, P_imag)\n",
    "        D_real = Y_real - Y1_real\n",
    "        D_imag = Y_imag - Y1_imag\n",
    "        Hd_real, Hd_imag = cpxmm(D_real, D_imag, self.W_real, self.W_imag)\n",
    "        Hd_real = Hd_real + self.b_real\n",
    "        Hd_imag = Hd_imag + self.b_imag\n",
    "        Hd_real = self.activate_real(Hd_real)\n",
    "        Hd_imag = self.activate_imag(Hd_imag)\n",
    "        Hd_real, Hd_imag = cpxmm(self.W1_real, self.W1_imag, Hd_real, Hd_imag)\n",
    "        Hd_real = Hd_real + self.b1_real\n",
    "        Hd_imag = Hd_imag + self.b1_imag\n",
    "        Hd_real = self.activate1_real(Hd_real)\n",
    "        Hd_imag = self.activate1_imag(Hd_imag)\n",
    "        return Hd_real, Hd_imag       \n",
    "\n",
    "\n",
    "class JointNet(nn.Module):\n",
    "    def __init__(self, N_bs, K, T):\n",
    "        super(JointNet, self).__init__()\n",
    "        self.N_bs = N_bs\n",
    "        self.K = K\n",
    "        self.T = T\n",
    "        self.P_real = nn.Parameter(torch.FloatTensor(K, T))\n",
    "        self.P_imag = nn.Parameter(torch.FloatTensor(K, T))\n",
    "        nn.init.orthogonal_(self.P_real)\n",
    "        nn.init.orthogonal_(self.P_imag)\n",
    "        self.W_real = nn.Parameter(torch.FloatTensor(T, K))\n",
    "        self.W_imag = nn.Parameter(torch.FloatTensor(T, K))\n",
    "        self.Res1 = ResLayer(K, T, N_bs)\n",
    "        self.Res2 = ResLayer(K, T, N_bs)\n",
    "        self.Res3 = ResLayer(K, T, N_bs)\n",
    "        self.Res4 = ResLayer(K, T, N_bs)\n",
    "        self.ActNet = nn.Sequential(\n",
    "            nn.Linear(N_bs * T * 2, N_bs * T * 2),\n",
    "            nn.LeakyReLU(inplace=True),\n",
    "            nn.BatchNorm1d(N_bs * T * 2),\n",
    "            nn.Dropout(0.5),\n",
    "            nn.Linear(N_bs * T * 2, 2 * K),\n",
    "            nn.LeakyReLU(inplace=True),\n",
    "            nn.BatchNorm1d(2 * K),\n",
    "            nn.Dropout(0.5),\n",
    "            nn.Linear(2 * K, K),\n",
    "            nn.Sigmoid(),\n",
    "        )\n",
    "        nn.init.constant_(self.W_real, 0)\n",
    "        nn.init.constant_(self.W_imag, 0)\n",
    "        self.th = nn.Threshold(0.5, 0)\n",
    "        \n",
    "    def forward(self, H_real, H_imag, nvar):\n",
    "        N_real = (np.sqrt(nvar / 2) * torch.randn(self.N_bs, self.T)).cuda()\n",
    "        N_imag = (np.sqrt(nvar / 2) * torch.randn(self.N_bs, self.T)).cuda()\n",
    "        Y_real, Y_imag = cpxmm(H_real, H_imag, self.P_real, self.P_imag)\n",
    "        Y_real = Y_real + N_real\n",
    "        Y_imag = Y_imag + N_imag\n",
    "        # Y_sum = Y_real.sum(dim=2) + Y_imag.sum(dim=2)\n",
    "        Y_sum = torch.cat((Y_real.view(Y_real.shape[0], -1), Y_imag.view(Y_imag.shape[0], -1)), dim=1)\n",
    "        activity = self.ActNet(Y_sum).unsqueeze(dim=1)\n",
    "        th_act = self.th(activity).detach()\n",
    "        H_real, H_imag = cpxmm(Y_real, Y_imag, self.W_real, self.W_imag)\n",
    "        Hd_real, Hd_imag = self.Res1(H_real, H_imag, self.P_real.detach(), self.P_imag.detach(), Y_real, Y_imag)\n",
    "        H_real = H_real + Hd_real\n",
    "        H_imag = H_imag + Hd_imag\n",
    "        Hd_real, Hd_imag = self.Res2(H_real, H_imag, self.P_real.detach(), self.P_imag.detach(), Y_real, Y_imag)\n",
    "        H_real = H_real + Hd_real\n",
    "        H_imag = H_imag + Hd_imag\n",
    "        Hd_real, Hd_imag = self.Res3(H_real, H_imag, self.P_real.detach(), self.P_imag.detach(), Y_real, Y_imag)\n",
    "        H_real = H_real + Hd_real\n",
    "        H_imag = H_imag + Hd_imag\n",
    "        Hd_real, Hd_imag = self.Res4(H_real, H_imag, self.P_real.detach(), self.P_imag.detach(), Y_real, Y_imag)\n",
    "        H_real = H_real + Hd_real\n",
    "        H_imag = H_imag + Hd_imag\n",
    "        # H_real = H_real * th_act\n",
    "        # H_imag = H_imag * th_act\n",
    "        return H_real, H_imag, activity.squeeze()\n",
    "        \n",
    "    def fetch_pilot(self):\n",
    "        return self.P_real.data, self.P_imag.data"
   ]
  },
  {
   "cell_type": "code",
   "execution_count": 13,
   "metadata": {},
   "outputs": [
    {
     "data": {
      "application/vnd.jupyter.widget-view+json": {
       "model_id": "5ad11e4432ef4e7abf9f695ebc4da555",
       "version_major": 2,
       "version_minor": 0
      },
      "text/plain": [
       "HBox(children=(IntProgress(value=0, max=400), HTML(value='')))"
      ]
     },
     "metadata": {},
     "output_type": "display_data"
    },
    {
     "ename": "RuntimeError",
     "evalue": "CUDA out of memory. Tried to allocate 158.00 MiB (GPU 0; 6.00 GiB total capacity; 2.89 GiB already allocated; 33.14 MiB free; 1.66 GiB cached)",
     "output_type": "error",
     "traceback": [
      "\u001b[1;31m---------------------------------------------------------------------------\u001b[0m",
      "\u001b[1;31mRuntimeError\u001b[0m                              Traceback (most recent call last)",
      "\u001b[1;32m<ipython-input-13-55a2c77d5ca6>\u001b[0m in \u001b[0;36m<module>\u001b[1;34m\u001b[0m\n\u001b[0;32m     24\u001b[0m     \u001b[0moptimizer\u001b[0m\u001b[1;33m.\u001b[0m\u001b[0mzero_grad\u001b[0m\u001b[1;33m(\u001b[0m\u001b[1;33m)\u001b[0m\u001b[1;33m\u001b[0m\u001b[1;33m\u001b[0m\u001b[0m\n\u001b[0;32m     25\u001b[0m     \u001b[0mloss\u001b[0m\u001b[1;33m.\u001b[0m\u001b[0mbackward\u001b[0m\u001b[1;33m(\u001b[0m\u001b[1;33m)\u001b[0m\u001b[1;33m\u001b[0m\u001b[1;33m\u001b[0m\u001b[0m\n\u001b[1;32m---> 26\u001b[1;33m     \u001b[0moptimizer\u001b[0m\u001b[1;33m.\u001b[0m\u001b[0mstep\u001b[0m\u001b[1;33m(\u001b[0m\u001b[1;33m)\u001b[0m\u001b[1;33m\u001b[0m\u001b[1;33m\u001b[0m\u001b[0m\n\u001b[0m\u001b[0;32m     27\u001b[0m     \u001b[0mact\u001b[0m\u001b[1;33m[\u001b[0m\u001b[0mact\u001b[0m \u001b[1;33m<\u001b[0m \u001b[1;36m0.5\u001b[0m\u001b[1;33m]\u001b[0m \u001b[1;33m=\u001b[0m \u001b[1;36m0\u001b[0m\u001b[1;33m\u001b[0m\u001b[1;33m\u001b[0m\u001b[0m\n\u001b[0;32m     28\u001b[0m     \u001b[0mact\u001b[0m\u001b[1;33m[\u001b[0m\u001b[0mact\u001b[0m \u001b[1;33m>\u001b[0m \u001b[1;36m0.5\u001b[0m\u001b[1;33m]\u001b[0m \u001b[1;33m=\u001b[0m \u001b[1;36m1\u001b[0m\u001b[1;33m\u001b[0m\u001b[1;33m\u001b[0m\u001b[0m\n",
      "\u001b[1;32m~\\Anaconda3\\envs\\EE369\\lib\\site-packages\\torch\\optim\\adam.py\u001b[0m in \u001b[0;36mstep\u001b[1;34m(self, closure)\u001b[0m\n\u001b[0;32m    101\u001b[0m                     \u001b[0mdenom\u001b[0m \u001b[1;33m=\u001b[0m \u001b[1;33m(\u001b[0m\u001b[0mmax_exp_avg_sq\u001b[0m\u001b[1;33m.\u001b[0m\u001b[0msqrt\u001b[0m\u001b[1;33m(\u001b[0m\u001b[1;33m)\u001b[0m \u001b[1;33m/\u001b[0m \u001b[0mmath\u001b[0m\u001b[1;33m.\u001b[0m\u001b[0msqrt\u001b[0m\u001b[1;33m(\u001b[0m\u001b[0mbias_correction2\u001b[0m\u001b[1;33m)\u001b[0m\u001b[1;33m)\u001b[0m\u001b[1;33m.\u001b[0m\u001b[0madd_\u001b[0m\u001b[1;33m(\u001b[0m\u001b[0mgroup\u001b[0m\u001b[1;33m[\u001b[0m\u001b[1;34m'eps'\u001b[0m\u001b[1;33m]\u001b[0m\u001b[1;33m)\u001b[0m\u001b[1;33m\u001b[0m\u001b[1;33m\u001b[0m\u001b[0m\n\u001b[0;32m    102\u001b[0m                 \u001b[1;32melse\u001b[0m\u001b[1;33m:\u001b[0m\u001b[1;33m\u001b[0m\u001b[1;33m\u001b[0m\u001b[0m\n\u001b[1;32m--> 103\u001b[1;33m                     \u001b[0mdenom\u001b[0m \u001b[1;33m=\u001b[0m \u001b[1;33m(\u001b[0m\u001b[0mexp_avg_sq\u001b[0m\u001b[1;33m.\u001b[0m\u001b[0msqrt\u001b[0m\u001b[1;33m(\u001b[0m\u001b[1;33m)\u001b[0m \u001b[1;33m/\u001b[0m \u001b[0mmath\u001b[0m\u001b[1;33m.\u001b[0m\u001b[0msqrt\u001b[0m\u001b[1;33m(\u001b[0m\u001b[0mbias_correction2\u001b[0m\u001b[1;33m)\u001b[0m\u001b[1;33m)\u001b[0m\u001b[1;33m.\u001b[0m\u001b[0madd_\u001b[0m\u001b[1;33m(\u001b[0m\u001b[0mgroup\u001b[0m\u001b[1;33m[\u001b[0m\u001b[1;34m'eps'\u001b[0m\u001b[1;33m]\u001b[0m\u001b[1;33m)\u001b[0m\u001b[1;33m\u001b[0m\u001b[1;33m\u001b[0m\u001b[0m\n\u001b[0m\u001b[0;32m    104\u001b[0m \u001b[1;33m\u001b[0m\u001b[0m\n\u001b[0;32m    105\u001b[0m                 \u001b[0mstep_size\u001b[0m \u001b[1;33m=\u001b[0m \u001b[0mgroup\u001b[0m\u001b[1;33m[\u001b[0m\u001b[1;34m'lr'\u001b[0m\u001b[1;33m]\u001b[0m \u001b[1;33m/\u001b[0m \u001b[0mbias_correction1\u001b[0m\u001b[1;33m\u001b[0m\u001b[1;33m\u001b[0m\u001b[0m\n",
      "\u001b[1;31mRuntimeError\u001b[0m: CUDA out of memory. Tried to allocate 158.00 MiB (GPU 0; 6.00 GiB total capacity; 2.89 GiB already allocated; 33.14 MiB free; 1.66 GiB cached)"
     ]
    }
   ],
   "source": [
    "net = JointNet(params['N_bs'], params['K'], params['T']).cuda()\n",
    "optimizer = torch.optim.Adam(net.parameters(), lr=params['LR'], weight_decay=0.01)\n",
    "loss1 = nn.MSELoss()\n",
    "loss2 = nn.BCELoss()\n",
    "losses_train = np.zeros((params['EPOCH']))\n",
    "losses_test = np.zeros((params['EPOCH']))\n",
    "losses_ch_train = np.zeros((params['EPOCH']))\n",
    "losses_act_train = np.zeros((params['EPOCH']))\n",
    "losses_ch_test = np.zeros((params['EPOCH']))\n",
    "losses_act_test = np.zeros((params['EPOCH']))\n",
    "accuracy_train = np.zeros((params['EPOCH']))\n",
    "accuracy_test = np.zeros((params['EPOCH']))\n",
    "sparsity_train = np.zeros((params['EPOCH']))\n",
    "sparsity_test = np.zeros((params['EPOCH']))\n",
    "for epoch in tqdm_notebook(range(params['EPOCH'])):\n",
    "    net.train()\n",
    "    ch_real, ch_imag, act = net(channel_real_train, channel_imag_train, params['nvar'])\n",
    "    loss_ch = loss1(ch_real, channel_real_train) + loss1(ch_imag, channel_imag_train)\n",
    "    loss_act =  loss2(act, activity_train)\n",
    "    losses_ch_train[epoch] = loss_ch\n",
    "    losses_act_train[epoch] = loss_act\n",
    "    loss = loss_ch + loss_act\n",
    "    losses_train[epoch] = loss.cpu().item() \n",
    "    optimizer.zero_grad()\n",
    "    loss.backward()\n",
    "    optimizer.step()\n",
    "    act[act < 0.5] = 0\n",
    "    act[act > 0.5] = 1\n",
    "    accuracy_train[epoch] = (act == activity_train).float().mean().detach().cpu().item()\n",
    "    sparsity_train[epoch] = act.sum().item()\n",
    "    net.eval()\n",
    "    ch_real_test, ch_imag_test, act_test = net(channel_real_test, channel_imag_test, params['nvar'])\n",
    "    loss_ch_test = loss1(ch_real_test, channel_real_test) + loss1(ch_imag_test, channel_imag_test)\n",
    "    loss_act_test =  loss2(act_test, activity_test)\n",
    "    loss_test = loss_ch_test + loss_act_test\n",
    "    losses_ch_test[epoch] = loss_ch_test\n",
    "    losses_act_test[epoch] = loss_act_test\n",
    "    losses_test[epoch] = loss_test.cpu().item()\n",
    "    act_test[act_test < 0.5] = 0\n",
    "    act_test[act_test > 0.5] = 1\n",
    "    accuracy_test[epoch] = (act_test == activity_test).float().mean().detach().cpu().item()\n",
    "    sparsity_test[epoch] = act_test.sum().item()"
   ]
  },
  {
   "cell_type": "code",
   "execution_count": 23,
   "metadata": {},
   "outputs": [],
   "source": [
    "del net"
   ]
  },
  {
   "cell_type": "code",
   "execution_count": 17,
   "metadata": {},
   "outputs": [
    {
     "data": {
      "image/png": "[encoded data removed]",
      "text/plain": [
       "<Figure size 432x288 with 1 Axes>"
      ]
     },
     "metadata": {
      "needs_background": "light"
     },
     "output_type": "display_data"
    }
   ],
   "source": [
    "plt.semilogy(sparsity_train)\n",
    "plt.semilogy(sparsity_test)\n",
    "plt.show()"
   ]
  },
  {
   "cell_type": "code",
   "execution_count": 13,
   "metadata": {},
   "outputs": [
    {
     "name": "stdout",
     "output_type": "stream",
     "text": [
      "0.8748264397212272\n"
     ]
    }
   ],
   "source": [
    "det_H = ch_real.cpu().detach().numpy() + ch_imag.cpu().detach().numpy() * 1j\n",
    "true_H = channel_real_train.cpu().detach().numpy() + channel_imag_train.cpu().detach().numpy() * 1j\n",
    "MSE = np.linalg.norm(det_H - true_H) ** 2 / np.linalg.norm(true_H) ** 2\n",
    "print(MSE)"
   ]
  },
  {
   "cell_type": "code",
   "execution_count": 170,
   "metadata": {},
   "outputs": [
    {
     "name": "stdout",
     "output_type": "stream",
     "text": [
      "torch.Size([300, 64, 500])\n"
     ]
    }
   ],
   "source": [
    "print(ch_real.shape)"
   ]
  },
  {
   "cell_type": "code",
   "execution_count": 3,
   "metadata": {},
   "outputs": [],
   "source": [
    "H_f_train, H_a_train, activity_train = generate_batched_active_channel(params)\n",
    "channel_real_train = torch.from_numpy(np.real(H_f_train)).squeeze().float().permute(0, 2, 1).cuda()\n",
    "channel_imag_train = torch.from_numpy(np.imag(H_f_train)).squeeze().float().permute(0, 2, 1).cuda()\n",
    "activity_train = torch.from_numpy(activity_train).float().cuda()"
   ]
  },
  {
   "cell_type": "code",
   "execution_count": 5,
   "metadata": {},
   "outputs": [],
   "source": [
    "H_f_test, H_a_test, activity_test = generate_batched_active_channel(params)\n",
    "channel_real_test = torch.from_numpy(np.real(H_f_test)).squeeze().float().permute(0, 2, 1).cuda()\n",
    "channel_imag_test = torch.from_numpy(np.imag(H_f_test)).squeeze().float().permute(0, 2, 1).cuda()\n",
    "activity_test = torch.from_numpy(activity_test).float().cuda()"
   ]
  },
  {
   "cell_type": "code",
   "execution_count": 9,
   "metadata": {},
   "outputs": [
    {
     "data": {
      "application/vnd.jupyter.widget-view+json": {
       "model_id": "a7286c49f1c846b6b18c71a443c05467",
       "version_major": 2,
       "version_minor": 0
      },
      "text/plain": [
       "HBox(children=(IntProgress(value=0, max=400), HTML(value='')))"
      ]
     },
     "metadata": {},
     "output_type": "display_data"
    },
    {
     "name": "stdout",
     "output_type": "stream",
     "text": [
      "\n"
     ]
    },
    {
     "data": {
      "image/png": "[encoded data removed]",
      "text/plain": [
       "<Figure size 432x288 with 1 Axes>"
      ]
     },
     "metadata": {
      "needs_background": "light"
     },
     "output_type": "display_data"
    }
   ],
   "source": [
    "pilot = generate_random_pilot(50, params['K'], params['P'], params['simulations'])\n",
    "y_train = pilot_through_channel(pilot, H_f_train, params['nvar'])\n",
    "y_real_train = torch.from_numpy(np.real(y_train)).squeeze().float().cuda()\n",
    "y_imag_train = torch.from_numpy(np.imag(y_train)).squeeze().float().cuda()\n",
    "y_tensor_train = torch.cat((y_real_train, y_imag_train), dim=2)\n",
    "\n",
    "pilot = generate_random_pilot(50, params['K'], params['P'], params['simulations'])\n",
    "y_test = pilot_through_channel(pilot, H_f_test, params['nvar'])\n",
    "y_real_test = torch.from_numpy(np.real(y_test)).squeeze().float().cuda()\n",
    "y_imag_test = torch.from_numpy(np.imag(y_test)).squeeze().float().cuda()\n",
    "y_tensor_test = torch.cat((y_real_test, y_imag_test), dim=2)\n",
    "\n",
    "net = nn.LSTM(params['N_bs'] * 2, params['K'], num_layers=2, batch_first=True, dropout=0.5).cuda()\n",
    "loss_func = nn.MSELoss()\n",
    "optimizer = torch.optim.Adam(net.parameters(), lr=params['LR'])\n",
    "losses_train = np.zeros((params['EPOCH']))\n",
    "losses_test = np.zeros((params['EPOCH']))\n",
    "\n",
    "for epoch in tqdm_notebook(range(params['EPOCH'])):\n",
    "    net.train()\n",
    "    out, hn = net(y_tensor_train)\n",
    "    out = out[:, 49, :].squeeze()\n",
    "    loss = loss_func(out, activity_train)\n",
    "    optimizer.zero_grad()\n",
    "    loss.backward()\n",
    "    optimizer.step()\n",
    "    losses_train[epoch] = loss.cpu().item()\n",
    "    net.eval()\n",
    "    out_test, hn = net(y_tensor_test)\n",
    "    out_test = out_test[:, 49, :].squeeze()\n",
    "    loss_test = loss_func(out_test, activity_test)\n",
    "    losses_test[epoch] = loss_test.cpu().item()\n",
    "plt.plot(losses_train)\n",
    "plt.plot(losses_test)\n",
    "plt.show()"
   ]
  },
  {
   "cell_type": "code",
   "execution_count": 7,
   "metadata": {},
   "outputs": [
    {
     "ename": "RuntimeError",
     "evalue": "cuda runtime error (710) : device-side assert triggered at ..\\aten\\src\\THC\\THCCachingHostAllocator.cpp:278",
     "output_type": "error",
     "traceback": [
      "\u001b[1;31m---------------------------------------------------------------------------\u001b[0m",
      "\u001b[1;31mRuntimeError\u001b[0m                              Traceback (most recent call last)",
      "\u001b[1;32m<ipython-input-7-cd68a9bd4c4a>\u001b[0m in \u001b[0;36m<module>\u001b[1;34m\u001b[0m\n\u001b[1;32m----> 1\u001b[1;33m \u001b[0mprint\u001b[0m\u001b[1;33m(\u001b[0m\u001b[0mout\u001b[0m\u001b[1;33m)\u001b[0m\u001b[1;33m\u001b[0m\u001b[1;33m\u001b[0m\u001b[0m\n\u001b[0m",
      "\u001b[1;32m~\\Anaconda3\\envs\\EE369\\lib\\site-packages\\torch\\tensor.py\u001b[0m in \u001b[0;36m__repr__\u001b[1;34m(self)\u001b[0m\n\u001b[0;32m    128\u001b[0m         \u001b[1;31m# characters to replace unicode characters with.\u001b[0m\u001b[1;33m\u001b[0m\u001b[1;33m\u001b[0m\u001b[1;33m\u001b[0m\u001b[0m\n\u001b[0;32m    129\u001b[0m         \u001b[1;32mif\u001b[0m \u001b[0msys\u001b[0m\u001b[1;33m.\u001b[0m\u001b[0mversion_info\u001b[0m \u001b[1;33m>\u001b[0m \u001b[1;33m(\u001b[0m\u001b[1;36m3\u001b[0m\u001b[1;33m,\u001b[0m\u001b[1;33m)\u001b[0m\u001b[1;33m:\u001b[0m\u001b[1;33m\u001b[0m\u001b[1;33m\u001b[0m\u001b[0m\n\u001b[1;32m--> 130\u001b[1;33m             \u001b[1;32mreturn\u001b[0m \u001b[0mtorch\u001b[0m\u001b[1;33m.\u001b[0m\u001b[0m_tensor_str\u001b[0m\u001b[1;33m.\u001b[0m\u001b[0m_str\u001b[0m\u001b[1;33m(\u001b[0m\u001b[0mself\u001b[0m\u001b[1;33m)\u001b[0m\u001b[1;33m\u001b[0m\u001b[1;33m\u001b[0m\u001b[0m\n\u001b[0m\u001b[0;32m    131\u001b[0m         \u001b[1;32melse\u001b[0m\u001b[1;33m:\u001b[0m\u001b[1;33m\u001b[0m\u001b[1;33m\u001b[0m\u001b[0m\n\u001b[0;32m    132\u001b[0m             \u001b[1;32mif\u001b[0m \u001b[0mhasattr\u001b[0m\u001b[1;33m(\u001b[0m\u001b[0msys\u001b[0m\u001b[1;33m.\u001b[0m\u001b[0mstdout\u001b[0m\u001b[1;33m,\u001b[0m \u001b[1;34m'encoding'\u001b[0m\u001b[1;33m)\u001b[0m\u001b[1;33m:\u001b[0m\u001b[1;33m\u001b[0m\u001b[1;33m\u001b[0m\u001b[0m\n",
      "\u001b[1;32m~\\Anaconda3\\envs\\EE369\\lib\\site-packages\\torch\\_tensor_str.py\u001b[0m in \u001b[0;36m_str\u001b[1;34m(self)\u001b[0m\n\u001b[0;32m    309\u001b[0m                 \u001b[0mtensor_str\u001b[0m \u001b[1;33m=\u001b[0m \u001b[0m_tensor_str\u001b[0m\u001b[1;33m(\u001b[0m\u001b[0mself\u001b[0m\u001b[1;33m.\u001b[0m\u001b[0mto_dense\u001b[0m\u001b[1;33m(\u001b[0m\u001b[1;33m)\u001b[0m\u001b[1;33m,\u001b[0m \u001b[0mindent\u001b[0m\u001b[1;33m)\u001b[0m\u001b[1;33m\u001b[0m\u001b[1;33m\u001b[0m\u001b[0m\n\u001b[0;32m    310\u001b[0m             \u001b[1;32melse\u001b[0m\u001b[1;33m:\u001b[0m\u001b[1;33m\u001b[0m\u001b[1;33m\u001b[0m\u001b[0m\n\u001b[1;32m--> 311\u001b[1;33m                 \u001b[0mtensor_str\u001b[0m \u001b[1;33m=\u001b[0m \u001b[0m_tensor_str\u001b[0m\u001b[1;33m(\u001b[0m\u001b[0mself\u001b[0m\u001b[1;33m,\u001b[0m \u001b[0mindent\u001b[0m\u001b[1;33m)\u001b[0m\u001b[1;33m\u001b[0m\u001b[1;33m\u001b[0m\u001b[0m\n\u001b[0m\u001b[0;32m    312\u001b[0m \u001b[1;33m\u001b[0m\u001b[0m\n\u001b[0;32m    313\u001b[0m     \u001b[1;32mif\u001b[0m \u001b[0mself\u001b[0m\u001b[1;33m.\u001b[0m\u001b[0mlayout\u001b[0m \u001b[1;33m!=\u001b[0m \u001b[0mtorch\u001b[0m\u001b[1;33m.\u001b[0m\u001b[0mstrided\u001b[0m\u001b[1;33m:\u001b[0m\u001b[1;33m\u001b[0m\u001b[1;33m\u001b[0m\u001b[0m\n",
      "\u001b[1;32m~\\Anaconda3\\envs\\EE369\\lib\\site-packages\\torch\\_tensor_str.py\u001b[0m in \u001b[0;36m_tensor_str\u001b[1;34m(self, indent)\u001b[0m\n\u001b[0;32m    207\u001b[0m     \u001b[1;32mif\u001b[0m \u001b[0mself\u001b[0m\u001b[1;33m.\u001b[0m\u001b[0mdtype\u001b[0m \u001b[1;32mis\u001b[0m \u001b[0mtorch\u001b[0m\u001b[1;33m.\u001b[0m\u001b[0mfloat16\u001b[0m \u001b[1;32mor\u001b[0m \u001b[0mself\u001b[0m\u001b[1;33m.\u001b[0m\u001b[0mdtype\u001b[0m \u001b[1;32mis\u001b[0m \u001b[0mtorch\u001b[0m\u001b[1;33m.\u001b[0m\u001b[0mbfloat16\u001b[0m\u001b[1;33m:\u001b[0m\u001b[1;33m\u001b[0m\u001b[1;33m\u001b[0m\u001b[0m\n\u001b[0;32m    208\u001b[0m         \u001b[0mself\u001b[0m \u001b[1;33m=\u001b[0m \u001b[0mself\u001b[0m\u001b[1;33m.\u001b[0m\u001b[0mfloat\u001b[0m\u001b[1;33m(\u001b[0m\u001b[1;33m)\u001b[0m\u001b[1;33m\u001b[0m\u001b[1;33m\u001b[0m\u001b[0m\n\u001b[1;32m--> 209\u001b[1;33m     \u001b[0mformatter\u001b[0m \u001b[1;33m=\u001b[0m \u001b[0m_Formatter\u001b[0m\u001b[1;33m(\u001b[0m\u001b[0mget_summarized_data\u001b[0m\u001b[1;33m(\u001b[0m\u001b[0mself\u001b[0m\u001b[1;33m)\u001b[0m \u001b[1;32mif\u001b[0m \u001b[0msummarize\u001b[0m \u001b[1;32melse\u001b[0m \u001b[0mself\u001b[0m\u001b[1;33m)\u001b[0m\u001b[1;33m\u001b[0m\u001b[1;33m\u001b[0m\u001b[0m\n\u001b[0m\u001b[0;32m    210\u001b[0m     \u001b[1;32mreturn\u001b[0m \u001b[0m_tensor_str_with_formatter\u001b[0m\u001b[1;33m(\u001b[0m\u001b[0mself\u001b[0m\u001b[1;33m,\u001b[0m \u001b[0mindent\u001b[0m\u001b[1;33m,\u001b[0m \u001b[0mformatter\u001b[0m\u001b[1;33m,\u001b[0m \u001b[0msummarize\u001b[0m\u001b[1;33m)\u001b[0m\u001b[1;33m\u001b[0m\u001b[1;33m\u001b[0m\u001b[0m\n\u001b[0;32m    211\u001b[0m \u001b[1;33m\u001b[0m\u001b[0m\n",
      "\u001b[1;32m~\\Anaconda3\\envs\\EE369\\lib\\site-packages\\torch\\_tensor_str.py\u001b[0m in \u001b[0;36mget_summarized_data\u001b[1;34m(self)\u001b[0m\n\u001b[0;32m    240\u001b[0m         end = ([self[i]\n\u001b[0;32m    241\u001b[0m                for i in range(len(self) - PRINT_OPTS.edgeitems, len(self))])\n\u001b[1;32m--> 242\u001b[1;33m         \u001b[1;32mreturn\u001b[0m \u001b[0mtorch\u001b[0m\u001b[1;33m.\u001b[0m\u001b[0mstack\u001b[0m\u001b[1;33m(\u001b[0m\u001b[1;33m[\u001b[0m\u001b[0mget_summarized_data\u001b[0m\u001b[1;33m(\u001b[0m\u001b[0mx\u001b[0m\u001b[1;33m)\u001b[0m \u001b[1;32mfor\u001b[0m \u001b[0mx\u001b[0m \u001b[1;32min\u001b[0m \u001b[1;33m(\u001b[0m\u001b[0mstart\u001b[0m \u001b[1;33m+\u001b[0m \u001b[0mend\u001b[0m\u001b[1;33m)\u001b[0m\u001b[1;33m]\u001b[0m\u001b[1;33m)\u001b[0m\u001b[1;33m\u001b[0m\u001b[1;33m\u001b[0m\u001b[0m\n\u001b[0m\u001b[0;32m    243\u001b[0m     \u001b[1;32melse\u001b[0m\u001b[1;33m:\u001b[0m\u001b[1;33m\u001b[0m\u001b[1;33m\u001b[0m\u001b[0m\n\u001b[0;32m    244\u001b[0m         \u001b[1;32mreturn\u001b[0m \u001b[0mtorch\u001b[0m\u001b[1;33m.\u001b[0m\u001b[0mstack\u001b[0m\u001b[1;33m(\u001b[0m\u001b[1;33m[\u001b[0m\u001b[0mget_summarized_data\u001b[0m\u001b[1;33m(\u001b[0m\u001b[0mx\u001b[0m\u001b[1;33m)\u001b[0m \u001b[1;32mfor\u001b[0m \u001b[0mx\u001b[0m \u001b[1;32min\u001b[0m \u001b[0mself\u001b[0m\u001b[1;33m]\u001b[0m\u001b[1;33m)\u001b[0m\u001b[1;33m\u001b[0m\u001b[1;33m\u001b[0m\u001b[0m\n",
      "\u001b[1;32m~\\Anaconda3\\envs\\EE369\\lib\\site-packages\\torch\\_tensor_str.py\u001b[0m in \u001b[0;36m<listcomp>\u001b[1;34m(.0)\u001b[0m\n\u001b[0;32m    240\u001b[0m         end = ([self[i]\n\u001b[0;32m    241\u001b[0m                for i in range(len(self) - PRINT_OPTS.edgeitems, len(self))])\n\u001b[1;32m--> 242\u001b[1;33m         \u001b[1;32mreturn\u001b[0m \u001b[0mtorch\u001b[0m\u001b[1;33m.\u001b[0m\u001b[0mstack\u001b[0m\u001b[1;33m(\u001b[0m\u001b[1;33m[\u001b[0m\u001b[0mget_summarized_data\u001b[0m\u001b[1;33m(\u001b[0m\u001b[0mx\u001b[0m\u001b[1;33m)\u001b[0m \u001b[1;32mfor\u001b[0m \u001b[0mx\u001b[0m \u001b[1;32min\u001b[0m \u001b[1;33m(\u001b[0m\u001b[0mstart\u001b[0m \u001b[1;33m+\u001b[0m \u001b[0mend\u001b[0m\u001b[1;33m)\u001b[0m\u001b[1;33m]\u001b[0m\u001b[1;33m)\u001b[0m\u001b[1;33m\u001b[0m\u001b[1;33m\u001b[0m\u001b[0m\n\u001b[0m\u001b[0;32m    243\u001b[0m     \u001b[1;32melse\u001b[0m\u001b[1;33m:\u001b[0m\u001b[1;33m\u001b[0m\u001b[1;33m\u001b[0m\u001b[0m\n\u001b[0;32m    244\u001b[0m         \u001b[1;32mreturn\u001b[0m \u001b[0mtorch\u001b[0m\u001b[1;33m.\u001b[0m\u001b[0mstack\u001b[0m\u001b[1;33m(\u001b[0m\u001b[1;33m[\u001b[0m\u001b[0mget_summarized_data\u001b[0m\u001b[1;33m(\u001b[0m\u001b[0mx\u001b[0m\u001b[1;33m)\u001b[0m \u001b[1;32mfor\u001b[0m \u001b[0mx\u001b[0m \u001b[1;32min\u001b[0m \u001b[0mself\u001b[0m\u001b[1;33m]\u001b[0m\u001b[1;33m)\u001b[0m\u001b[1;33m\u001b[0m\u001b[1;33m\u001b[0m\u001b[0m\n",
      "\u001b[1;32m~\\Anaconda3\\envs\\EE369\\lib\\site-packages\\torch\\_tensor_str.py\u001b[0m in \u001b[0;36mget_summarized_data\u001b[1;34m(self)\u001b[0m\n\u001b[0;32m    233\u001b[0m     \u001b[1;32mif\u001b[0m \u001b[0mdim\u001b[0m \u001b[1;33m==\u001b[0m \u001b[1;36m1\u001b[0m\u001b[1;33m:\u001b[0m\u001b[1;33m\u001b[0m\u001b[1;33m\u001b[0m\u001b[0m\n\u001b[0;32m    234\u001b[0m         \u001b[1;32mif\u001b[0m \u001b[0mself\u001b[0m\u001b[1;33m.\u001b[0m\u001b[0msize\u001b[0m\u001b[1;33m(\u001b[0m\u001b[1;36m0\u001b[0m\u001b[1;33m)\u001b[0m \u001b[1;33m>\u001b[0m \u001b[1;36m2\u001b[0m \u001b[1;33m*\u001b[0m \u001b[0mPRINT_OPTS\u001b[0m\u001b[1;33m.\u001b[0m\u001b[0medgeitems\u001b[0m\u001b[1;33m:\u001b[0m\u001b[1;33m\u001b[0m\u001b[1;33m\u001b[0m\u001b[0m\n\u001b[1;32m--> 235\u001b[1;33m             \u001b[1;32mreturn\u001b[0m \u001b[0mtorch\u001b[0m\u001b[1;33m.\u001b[0m\u001b[0mcat\u001b[0m\u001b[1;33m(\u001b[0m\u001b[1;33m(\u001b[0m\u001b[0mself\u001b[0m\u001b[1;33m[\u001b[0m\u001b[1;33m:\u001b[0m\u001b[0mPRINT_OPTS\u001b[0m\u001b[1;33m.\u001b[0m\u001b[0medgeitems\u001b[0m\u001b[1;33m]\u001b[0m\u001b[1;33m,\u001b[0m \u001b[0mself\u001b[0m\u001b[1;33m[\u001b[0m\u001b[1;33m-\u001b[0m\u001b[0mPRINT_OPTS\u001b[0m\u001b[1;33m.\u001b[0m\u001b[0medgeitems\u001b[0m\u001b[1;33m:\u001b[0m\u001b[1;33m]\u001b[0m\u001b[1;33m)\u001b[0m\u001b[1;33m)\u001b[0m\u001b[1;33m\u001b[0m\u001b[1;33m\u001b[0m\u001b[0m\n\u001b[0m\u001b[0;32m    236\u001b[0m         \u001b[1;32melse\u001b[0m\u001b[1;33m:\u001b[0m\u001b[1;33m\u001b[0m\u001b[1;33m\u001b[0m\u001b[0m\n\u001b[0;32m    237\u001b[0m             \u001b[1;32mreturn\u001b[0m \u001b[0mself\u001b[0m\u001b[1;33m\u001b[0m\u001b[1;33m\u001b[0m\u001b[0m\n",
      "\u001b[1;31mRuntimeError\u001b[0m: cuda runtime error (710) : device-side assert triggered at ..\\aten\\src\\THC\\THCCachingHostAllocator.cpp:278"
     ]
    }
   ],
   "source": [
    "print(out)"
   ]
  },
  {
   "cell_type": "code",
   "execution_count": 20,
   "metadata": {},
   "outputs": [
    {
     "ename": "NameError",
     "evalue": "name 'ActNet' is not defined",
     "output_type": "error",
     "traceback": [
      "\u001b[1;31m---------------------------------------------------------------------------\u001b[0m",
      "\u001b[1;31mNameError\u001b[0m                                 Traceback (most recent call last)",
      "\u001b[1;32m<ipython-input-20-d84ebe310f62>\u001b[0m in \u001b[0;36m<module>\u001b[1;34m\u001b[0m\n\u001b[1;32m----> 1\u001b[1;33m \u001b[0mnet\u001b[0m \u001b[1;33m=\u001b[0m \u001b[0mActNet\u001b[0m\u001b[1;33m(\u001b[0m\u001b[0mparams\u001b[0m\u001b[1;33m[\u001b[0m\u001b[1;34m'N_bs'\u001b[0m\u001b[1;33m]\u001b[0m\u001b[1;33m,\u001b[0m \u001b[0mparams\u001b[0m\u001b[1;33m[\u001b[0m\u001b[1;34m'K'\u001b[0m\u001b[1;33m]\u001b[0m\u001b[1;33m,\u001b[0m \u001b[0mparams\u001b[0m\u001b[1;33m[\u001b[0m\u001b[1;34m'T'\u001b[0m\u001b[1;33m]\u001b[0m\u001b[1;33m)\u001b[0m\u001b[1;33m.\u001b[0m\u001b[0mcuda\u001b[0m\u001b[1;33m(\u001b[0m\u001b[1;33m)\u001b[0m\u001b[1;33m\u001b[0m\u001b[1;33m\u001b[0m\u001b[0m\n\u001b[0m\u001b[0;32m      2\u001b[0m \u001b[0moptimizer\u001b[0m \u001b[1;33m=\u001b[0m \u001b[0mtorch\u001b[0m\u001b[1;33m.\u001b[0m\u001b[0moptim\u001b[0m\u001b[1;33m.\u001b[0m\u001b[0mAdam\u001b[0m\u001b[1;33m(\u001b[0m\u001b[0mnet\u001b[0m\u001b[1;33m.\u001b[0m\u001b[0mparameters\u001b[0m\u001b[1;33m(\u001b[0m\u001b[1;33m)\u001b[0m\u001b[1;33m,\u001b[0m \u001b[0mlr\u001b[0m\u001b[1;33m=\u001b[0m\u001b[0mparams\u001b[0m\u001b[1;33m[\u001b[0m\u001b[1;34m'LR'\u001b[0m\u001b[1;33m]\u001b[0m\u001b[1;33m,\u001b[0m \u001b[0mweight_decay\u001b[0m\u001b[1;33m=\u001b[0m\u001b[1;36m0.02\u001b[0m\u001b[1;33m)\u001b[0m\u001b[1;33m\u001b[0m\u001b[1;33m\u001b[0m\u001b[0m\n\u001b[0;32m      3\u001b[0m \u001b[0mloss_func\u001b[0m \u001b[1;33m=\u001b[0m \u001b[0mnn\u001b[0m\u001b[1;33m.\u001b[0m\u001b[0mBCELoss\u001b[0m\u001b[1;33m(\u001b[0m\u001b[1;33m)\u001b[0m\u001b[1;33m\u001b[0m\u001b[1;33m\u001b[0m\u001b[0m\n\u001b[0;32m      4\u001b[0m \u001b[0mlosses_train\u001b[0m \u001b[1;33m=\u001b[0m \u001b[0mnp\u001b[0m\u001b[1;33m.\u001b[0m\u001b[0mzeros\u001b[0m\u001b[1;33m(\u001b[0m\u001b[1;33m(\u001b[0m\u001b[0mparams\u001b[0m\u001b[1;33m[\u001b[0m\u001b[1;34m'EPOCH'\u001b[0m\u001b[1;33m]\u001b[0m\u001b[1;33m)\u001b[0m\u001b[1;33m)\u001b[0m\u001b[1;33m\u001b[0m\u001b[1;33m\u001b[0m\u001b[0m\n\u001b[0;32m      5\u001b[0m \u001b[0mlosses_test\u001b[0m \u001b[1;33m=\u001b[0m \u001b[0mnp\u001b[0m\u001b[1;33m.\u001b[0m\u001b[0mzeros\u001b[0m\u001b[1;33m(\u001b[0m\u001b[1;33m(\u001b[0m\u001b[0mparams\u001b[0m\u001b[1;33m[\u001b[0m\u001b[1;34m'EPOCH'\u001b[0m\u001b[1;33m]\u001b[0m\u001b[1;33m)\u001b[0m\u001b[1;33m)\u001b[0m\u001b[1;33m\u001b[0m\u001b[1;33m\u001b[0m\u001b[0m\n",
      "\u001b[1;31mNameError\u001b[0m: name 'ActNet' is not defined"
     ]
    }
   ],
   "source": [
    "net = ActNet(params['N_bs'], params['K'], params['T']).cuda()\n",
    "optimizer = torch.optim.Adam(net.parameters(), lr=params['LR'], weight_decay=0.02)\n",
    "loss_func = nn.BCELoss()\n",
    "losses_train = np.zeros((params['EPOCH']))\n",
    "losses_test = np.zeros((params['EPOCH']))\n",
    "accuracy_train = np.zeros((params['EPOCH']))\n",
    "accuracy_test = np.zeros((params['EPOCH']))\n",
    "for epoch in tqdm_notebook(range(params['EPOCH'])):\n",
    "    net.train()\n",
    "    act = net(channel_real_train, channel_imag_train, params['nvar'])\n",
    "    loss = loss_func(act, activity_train)\n",
    "    losses_train[epoch] = loss.cpu().item() \n",
    "    optimizer.zero_grad()\n",
    "    loss.backward()\n",
    "    optimizer.step()\n",
    "    act[act < 0.5] = 0\n",
    "    act[act > 0.5] = 1\n",
    "    accuracy_train[epoch] = (act == activity_train).float().mean().detach().cpu().item()\n",
    "    net.eval()\n",
    "    act_test = net(channel_real_test, channel_imag_test, params['nvar'])\n",
    "    loss_test = loss_func(act_test, activity_test)\n",
    "    losses_test[epoch] = loss_test.cpu().item()\n",
    "    act_test[act_test < 0.5] = 0\n",
    "    act_test[act_test > 0.5] = 1\n",
    "    accuracy_test[epoch] = (act_test == activity_test).float().mean().detach().cpu().item()"
   ]
  },
  {
   "cell_type": "code",
   "execution_count": 20,
   "metadata": {},
   "outputs": [
    {
     "data": {
      "image/png": "[encoded data removed]",
      "text/plain": [
       "<Figure size 432x288 with 1 Axes>"
      ]
     },
     "metadata": {
      "needs_background": "light"
     },
     "output_type": "display_data"
    }
   ],
   "source": [
    "plt.plot(losses_train)\n",
    "plt.plot(losses_test)\n",
    "plt.plot(losses_ch_train)\n",
    "plt.plot(losses_act_train)\n",
    "plt.plot(losses_ch_test)\n",
    "plt.plot(losses_act_test)\n",
    "plt.legend(['train', 'test', 'train channel', 'train activity', 'test channel', 'test activity'])\n",
    "plt.ylabel('loss')\n",
    "plt.xlabel('epoch')\n",
    "# plt.savefig('plots/overfit.pdf')\n",
    "plt.show()\n"
   ]
  },
  {
   "cell_type": "code",
   "execution_count": 18,
   "metadata": {},
   "outputs": [
    {
     "data": {
      "image/png": "[encoded data removed]",
      "text/plain": [
       "<Figure size 432x288 with 1 Axes>"
      ]
     },
     "metadata": {
      "needs_background": "light"
     },
     "output_type": "display_data"
    }
   ],
   "source": [
    "plt.plot(losses_ch_train)\n",
    "plt.plot(losses_ch_test)\n",
    "plt.show()"
   ]
  },
  {
   "cell_type": "code",
   "execution_count": 19,
   "metadata": {},
   "outputs": [
    {
     "data": {
      "image/png": "[encoded data removed]",
      "text/plain": [
       "<Figure size 432x288 with 1 Axes>"
      ]
     },
     "metadata": {
      "needs_background": "light"
     },
     "output_type": "display_data"
    }
   ],
   "source": [
    "plt.plot(accuracy_train)\n",
    "plt.plot(accuracy_test)\n",
    "plt.legend(['train', 'validate'])\n",
    "plt.ylabel('accuracy')\n",
    "plt.xlabel('epoch')\n",
    "plt.show()"
   ]
  },
  {
   "cell_type": "code",
   "execution_count": 3,
   "metadata": {
    "pycharm": {}
   },
   "outputs": [],
   "source": [
    "H_f_train, H_a_train, activity_train = generate_batched_active_channel(params)\n",
    "pilot_train = generate_random_pilot(30, params['K'], params['P'], params['simulations'])\n",
    "y_train = pilot_through_channel(pilot_train, H_f_train, params['nvar'])\n",
    "pilot_train = np.linalg.pinv(pilot_train.squeeze())\n",
    "P_train = totensor(pilot_train, cuda=True)\n",
    "Y_train = totensor(y_train, cuda=True)\n",
    "H_train = totensor(H_f_train, cuda=True)"
   ]
  },
  {
   "cell_type": "code",
   "execution_count": 20,
   "metadata": {},
   "outputs": [
    {
     "ename": "NameError",
     "evalue": "name 'DLutils' is not defined",
     "output_type": "error",
     "traceback": [
      "\u001b[1;31m---------------------------------------------------------------------------\u001b[0m",
      "\u001b[1;31mNameError\u001b[0m                                 Traceback (most recent call last)",
      "\u001b[1;32m<ipython-input-20-54f31c2f30b9>\u001b[0m in \u001b[0;36m<module>\u001b[1;34m\u001b[0m\n\u001b[0;32m      1\u001b[0m \u001b[1;32mimport\u001b[0m \u001b[0mimportlib\u001b[0m\u001b[1;33m\u001b[0m\u001b[1;33m\u001b[0m\u001b[0m\n\u001b[1;32m----> 2\u001b[1;33m \u001b[0mimportlib\u001b[0m\u001b[1;33m.\u001b[0m\u001b[0mreload\u001b[0m\u001b[1;33m(\u001b[0m\u001b[0mDLutils\u001b[0m\u001b[1;33m)\u001b[0m\u001b[1;33m\u001b[0m\u001b[1;33m\u001b[0m\u001b[0m\n\u001b[0m",
      "\u001b[1;31mNameError\u001b[0m: name 'DLutils' is not defined"
     ]
    }
   ],
   "source": [
    "import importlib\n",
    "importlib.reload(DLutils)"
   ]
  },
  {
   "cell_type": "code",
   "execution_count": 4,
   "metadata": {
    "pycharm": {}
   },
   "outputs": [],
   "source": [
    "H_f_test, H_a_test, activity_test = generate_batched_active_channel(params)\n",
    "pilot_test = generate_random_pilot(30, params['K'], params['P'], params['simulations'])\n",
    "y_test = pilot_through_channel(pilot_test, H_f_test, params['nvar'])\n",
    "pilot_test = np.linalg.pinv(pilot_test.squeeze())\n",
    "P_test = totensor(pilot_train, cuda=True)\n",
    "Y_test = totensor(y_train, cuda=True)\n",
    "H_test = totensor(H_f_train, cuda=True)"
   ]
  },
  {
   "cell_type": "code",
   "execution_count": 5,
   "metadata": {
    "pycharm": {}
   },
   "outputs": [
    {
     "data": {
      "application/vnd.jupyter.widget-view+json": {
       "model_id": "d3e3f29ea90b4722b073e031aecb1d1b",
       "version_major": 2,
       "version_minor": 0
      },
      "text/plain": [
       "HBox(children=(IntProgress(value=0, max=300), HTML(value='')))"
      ]
     },
     "metadata": {},
     "output_type": "display_data"
    },
    {
     "name": "stdout",
     "output_type": "stream",
     "text": [
      "\n"
     ]
    }
   ],
   "source": [
    "net = SimpleResNet(params['N_bs'], 30, params['K']).cuda()\n",
    "optimizer = torch.optim.Adam(net.parameters(), lr=params['LR'])\n",
    "loss_func = nn.MSELoss()\n",
    "losses_train = np.zeros((params['EPOCH']))\n",
    "losses_test = np.zeros((params['EPOCH']))\n",
    "for epoch in tqdm_notebook(range(params['EPOCH'])):\n",
    "    channel = net(Y_train, P_train)\n",
    "    loss = loss_func(channel, H_train)\n",
    "    losses_train[epoch] = loss.cpu().item()\n",
    "    optimizer.zero_grad()\n",
    "    loss.backward()\n",
    "    optimizer.step()\n",
    "    channel_test = net(Y_test, P_test)\n",
    "    loss_test = loss_func(channel_test, H_test)\n",
    "    losses_test[epoch] = loss_test.cpu().item()"
   ]
  },
  {
   "cell_type": "code",
   "execution_count": 6,
   "metadata": {
    "pycharm": {}
   },
   "outputs": [
    {
     "data": {
      "image/png": "[encoded data removed]",
      "text/plain": [
       "<Figure size 432x288 with 1 Axes>"
      ]
     },
     "metadata": {
      "needs_background": "light"
     },
     "output_type": "display_data"
    }
   ],
   "source": [
    "plt.semilogy(losses_train)\n",
    "plt.semilogy(losses_test)\n",
    "plt.xlim([0, 300])\n",
    "plt.grid(which='major', linestyle='-.')\n",
    "plt.minorticks_on()\n",
    "plt.grid(b=True, which='minor', color='#999999', linestyle='-.', alpha=0.2)"
   ]
  },
  {
   "cell_type": "code",
   "execution_count": 7,
   "metadata": {
    "pycharm": {}
   },
   "outputs": [],
   "source": [
    "del P_train, Y_train, H_train, P_test, Y_test, H_test"
   ]
  },
  {
   "cell_type": "code",
   "execution_count": 9,
   "metadata": {
    "pycharm": {}
   },
   "outputs": [
    {
     "data": {
      "application/vnd.jupyter.widget-view+json": {
       "model_id": "bc3d10ba955d4a9a978b888e0ede2c49",
       "version_major": 2,
       "version_minor": 0
      },
      "text/plain": [
       "HBox(children=(IntProgress(value=0, max=25), HTML(value='')))"
      ]
     },
     "metadata": {},
     "output_type": "display_data"
    },
    {
     "name": "stdout",
     "output_type": "stream",
     "text": [
      "\n"
     ]
    }
   ],
   "source": [
    "Pe_n = np.zeros(params['Ka_set'].shape)\n",
    "FA_n = np.zeros(params['Ka_set'].shape)\n",
    "FM_n = np.zeros(params['Ka_set'].shape)\n",
    "NMSE_n = np.zeros(params['Ka_set'].shape)\n",
    "\n",
    "for i, Ka in enumerate(tqdm_notebook(params['Ka_set'])):\n",
    "    params['Ka'] = Ka\n",
    "    H_f, H_a, activity = generate_batched_active_channel(params)\n",
    "    pilot = generate_random_pilot(30, params['K'], params['P'], params['simulations'])\n",
    "    y = pilot_through_channel(pilot, H_f, params['nvar'])\n",
    "    pilot = np.linalg.pinv(pilot.squeeze())\n",
    "    P_test = totensor(pilot, cuda=True)\n",
    "    Y_test = totensor(y, cuda=True)\n",
    "    H_test = totensor(H_f, cuda=True)\n",
    "    \n",
    "    channel = net(Y_test, P_test)\n",
    "\n",
    "    hf = toarray(channel, cuda=True)\n",
    "    hf = np.expand_dims(hf, axis=3)\n",
    "    act_ch = channel_aud(hf, params['N_bs'])\n",
    "    Pe_n[i], FA_n[i], FM_n[i], NMSE_n[i] = performance(act_ch, activity, hf, H_f)"
   ]
  },
  {
   "cell_type": "code",
   "execution_count": 10,
   "metadata": {
    "pycharm": {}
   },
   "outputs": [
    {
     "data": {
      "image/png": "[encoded data removed]",
      "text/plain": [
       "<Figure size 432x288 with 1 Axes>"
      ]
     },
     "metadata": {
      "needs_background": "light"
     },
     "output_type": "display_data"
    }
   ],
   "source": [
    "plt.semilogy(params['Ka_set'], Pe_n, '-o')\n",
    "plt.xlim([30, 150])\n",
    "plt.grid(True, linestyle='-.')\n",
    "plt.minorticks_on()\n",
    "plt.grid(b=True, which='minor', color='#999999', linestyle='-.', alpha=0.2)\n",
    "plt.legend(['$P_e^{param}$', '$P_e^{ch}$'])\n",
    "plt.xlabel('Active Users $K_a$')\n",
    "plt.ylabel('Error Probability $P_e$')\n",
    "plt.savefig(fname='Probability_of_errorT30NN.pdf')\n",
    "plt.show()"
   ]
  },
  {
   "cell_type": "code",
   "execution_count": 11,
   "metadata": {
    "pycharm": {}
   },
   "outputs": [
    {
     "data": {
      "image/png": "[encoded data removed]",
      "text/plain": [
       "<Figure size 432x288 with 1 Axes>"
      ]
     },
     "metadata": {
      "needs_background": "light"
     },
     "output_type": "display_data"
    }
   ],
   "source": [
    "plt.plot(params['Ka_set'], NMSE_n, 'r-o')\n",
    "plt.xlim([30, 150])\n",
    "plt.grid(which='major', linestyle='-.')\n",
    "plt.minorticks_on()\n",
    "plt.grid(b=True, which='minor', color='#999999', linestyle='-.', alpha=0.2)\n",
    "plt.xlabel('Active Users $K_a$')\n",
    "plt.ylabel('NMSE')\n",
    "plt.savefig(fname='NMSET30NN.pdf')\n",
    "plt.show()"
   ]
  }
 ],
 "metadata": {
  "kernelspec": {
   "display_name": "Python 3",
   "language": "python",
   "name": "python3"
  },
  "language_info": {
   "codemirror_mode": {
    "name": "ipython",
    "version": 3
   },
   "file_extension": ".py",
   "mimetype": "text/x-python",
   "name": "python",
   "nbconvert_exporter": "python",
   "pygments_lexer": "ipython3",
   "version": "3.7.5"
  }
 },
 "nbformat": 4,
 "nbformat_minor": 2
}
