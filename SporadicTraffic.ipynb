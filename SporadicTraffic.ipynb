{
 "cells": [
  {
   "cell_type": "markdown",
   "metadata": {
    "pycharm": {}
   },
   "source": [
    "# Simulation For Sporadic Traffic"
   ]
  },
  {
   "cell_type": "code",
   "execution_count": 46,
   "metadata": {
    "pycharm": {
     "is_executing": false
    }
   },
   "outputs": [],
   "source": [
    "import numpy as np\n",
    "import scipy.special as sp\n",
    "import torch\n",
    "from tqdm import tqdm_notebook\n",
    "from tensorboardX import SummaryWriter\n",
    "import matplotlib.pyplot as plt\n",
    "import torch.nn as nn"
   ]
  },
  {
   "cell_type": "code",
   "execution_count": 2,
   "metadata": {
    "pycharm": {
     "is_executing": false
    }
   },
   "outputs": [],
   "source": [
    "def generate_channel_single_user(N_bs, N_ms, fc, Lp, sigma2alpha, fs, K, P_set):\n",
    "    n_bs = np.expand_dims(np.arange(N_bs), axis=1)\n",
    "    idx_bs = np.expand_dims(np.arange(Lp), axis=0) + np.random.randint(N_bs) + 1\n",
    "    idx_bs[idx_bs > N_bs] -= N_bs\n",
    "    theta_bs = idx_bs / N_bs\n",
    "    A_ms = np.ones((1, Lp))\n",
    "    A_bs = np.exp(-2j * np.pi * n_bs.dot(theta_bs))\n",
    "    L_cp = K / 4\n",
    "    tau_max = L_cp / fs\n",
    "    tau = np.sort(tau_max * np.random.rand(1, Lp)) * (-2 * np.pi * fs / K)\n",
    "    alpha = np.sort(np.sqrt(sigma2alpha / 2) * (np.random.randn(1, Lp) + 1j * np.random.randn(1, Lp)))\n",
    "    A_r = np.fft.fft(np.eye(N_bs)) / np.sqrt(N_bs)\n",
    "    A_t = np.fft.fft(np.eye(N_ms)) / np.sqrt(N_ms)\n",
    "    H_frq = np.zeros((N_bs, N_ms, len(P_set)), dtype=complex)\n",
    "    H_ang = np.zeros((N_bs, N_ms, len(P_set)), dtype=complex)\n",
    "    for i in range(len(P_set)):\n",
    "        D = np.diag((alpha * np.exp(1j * P_set[i] * tau)).squeeze())\n",
    "        H_frq[:, :, i] = A_bs.dot(D).dot(A_ms.T)\n",
    "        H_ang[:, :, i] = A_r.T.dot(H_frq[:, :, i]).dot(A_t)\n",
    "    return H_frq, H_ang, theta_bs"
   ]
  },
  {
   "cell_type": "code",
   "execution_count": 3,
   "metadata": {
    "pycharm": {
     "is_executing": false
    }
   },
   "outputs": [],
   "source": [
    "def generate_active_user(K, Ka):\n",
    "    activity = np.zeros((K, 1))\n",
    "    idx = np.random.permutation(K)\n",
    "    activity[idx[:Ka]] = 1\n",
    "    return activity"
   ]
  },
  {
   "cell_type": "code",
   "execution_count": 4,
   "metadata": {
    "pycharm": {
     "is_executing": false
    }
   },
   "outputs": [],
   "source": [
    "def generate_active_channel(K, Ka, N_bs, P_set, Lp_min, Lp_max, N_ms, fc, sigma2alpha, fs):\n",
    "    P = len(P_set)\n",
    "    H_frq = np.zeros((K, N_bs, P), dtype=complex)\n",
    "    H_ang = np.zeros((K, N_bs, P), dtype=complex)\n",
    "    activity = generate_active_user(K, Ka)\n",
    "    for user in range(K):\n",
    "        Lp = np.random.randint(Lp_min, Lp_max)\n",
    "        H_f, H_a, _ = generate_channel_single_user(N_bs, N_ms, fc, Lp, sigma2alpha, fs, K, P_set)\n",
    "        H_frq[user] = activity[user] * np.transpose(H_f, (1, 0, 2))\n",
    "        H_ang[user] = activity[user] * np.transpose(H_a, (1, 0, 2))\n",
    "    return H_frq, H_ang, activity"
   ]
  },
  {
   "cell_type": "code",
   "execution_count": 5,
   "metadata": {
    "pycharm": {
     "is_executing": false
    }
   },
   "outputs": [],
   "source": [
    "def generate_batched_active_channel(params):\n",
    "    H_f = np.zeros((params['simulations'], params['K'], params['N_bs'], params['P']), dtype=complex)\n",
    "    H_a = np.zeros((params['simulations'], params['K'], params['N_bs'], params['P']), dtype=complex)\n",
    "    act = np.zeros((params['simulations'], params['K']))\n",
    "    for i in range(params['simulations']):\n",
    "        H_frq, H_ang, activity = generate_active_channel(params['K'],\n",
    "                                                         params['Ka'],\n",
    "                                                         params['N_bs'],\n",
    "                                                         params['P_set'],\n",
    "                                                         params['Lp_min'],\n",
    "                                                         params['Lp_max'],\n",
    "                                                         params['N_ms'],\n",
    "                                                         params['fc'],\n",
    "                                                         params['sigma2alpha'],\n",
    "                                                         params['fs'])\n",
    "        H_f[i] = H_frq\n",
    "        H_a[i] = H_ang\n",
    "        act[i] = activity.squeeze()\n",
    "    return H_f, H_a, act"
   ]
  },
  {
   "cell_type": "code",
   "execution_count": 6,
   "metadata": {
    "pycharm": {
     "is_executing": false
    }
   },
   "outputs": [],
   "source": [
    "def generate_random_pilot(T, K, P, batch):\n",
    "    pilot = (np.random.randn(batch, T, K, P) + 1j * np.random.randn(batch, T, K, P)) / np.sqrt(2)\n",
    "    return pilot"
   ]
  },
  {
   "cell_type": "code",
   "execution_count": 7,
   "metadata": {
    "pycharm": {
     "is_executing": false
    }
   },
   "outputs": [],
   "source": [
    "def pilot_through_channel(pilot, H_f, nvar):\n",
    "    batch_size, K, N_bs, P = H_f.shape\n",
    "    _, T, _, _ = pilot.shape\n",
    "    y = np.zeros((batch_size, T, N_bs, P), dtype=complex)\n",
    "    for sim in range(batch_size):\n",
    "        for p in range(P):\n",
    "            noise = np.sqrt(nvar / 2) * (np.random.randn(T, N_bs) + 1j * np.random.randn(T, N_bs))\n",
    "            y[sim, :, :, p] = pilot[sim, :, :, p].dot(H_f[sim, :, :, p]) + noise\n",
    "    return y"
   ]
  },
  {
   "cell_type": "code",
   "execution_count": 8,
   "metadata": {
    "pycharm": {
     "is_executing": false
    }
   },
   "outputs": [],
   "source": [
    "def dmmv_amp_detection(y, pilot):\n",
    "    iters = 200\n",
    "    tol = 1e-5\n",
    "    snr0 = 100\n",
    "    damp = 0.3\n",
    "    batch_size, G, M, P = y.shape\n",
    "    _, _, K, _ = pilot.shape\n",
    "    d = G / K\n",
    "    normal_cdf = lambda x: 0.5 * (1 + sp.erf(x / np.sqrt(2)))\n",
    "    normal_pdf = lambda x: np.exp(-x ** 2 / 2) / np.sqrt(2 * np.pi)\n",
    "    alpha_grid = np.linspace(0, 10, 1024)\n",
    "    rho_se = (1 - (2 / d) * ((1 + alpha_grid ** 2) * normal_cdf(-alpha_grid) - alpha_grid * normal_pdf(alpha_grid))) /\\\n",
    "        (1 + alpha_grid ** 2 - 2 * ((1 + alpha_grid ** 2) * normal_cdf(-alpha_grid) - alpha_grid * normal_pdf(alpha_grid)))\n",
    "    rho_se = np.max(rho_se)\n",
    "    xhat = np.zeros((batch_size, K, M, P), dtype=complex)\n",
    "    lamda = rho_se * d * np.ones((batch_size, K, M, P))\n",
    "    iteration = np.zeros((batch_size))\n",
    "    NMSE_watch = np.zeros((batch_size, iters))\n",
    "    for sim in tqdm_notebook(range(batch_size), desc='simulation'):\n",
    "        xmean = 0\n",
    "        xvar = 0\n",
    "        nvar = np.zeros(P)\n",
    "        for p in range(P):\n",
    "            for t in range(M):\n",
    "                nvar[p] += np.linalg.norm(y[sim, :, t, p]) ** 2 / ((1 + snr0) * G)\n",
    "                xvar += (np.linalg.norm(y[sim, :, t, p]) ** 2 - G * nvar[p]) / (rho_se * d * np.linalg.norm(pilot[sim, :, :, p], ord='fro') ** 2)\n",
    "        xvar = xvar / M / P\n",
    "        nvar = nvar / M\n",
    "        v = np.ones((K, M, P)) * xvar\n",
    "        V = np.ones((G, M, P))\n",
    "        Z = y[sim].copy()\n",
    "        S = np.zeros((K, M, P))\n",
    "        R = np.zeros((K, M, P), dtype=complex)\n",
    "        m = np.zeros((K, M, P), dtype=complex)\n",
    "        L = np.zeros((K, M, P))\n",
    "        Vrs = np.zeros((K, M, P))\n",
    "        for it in range(iters):\n",
    "            x_pre = xhat[sim].copy()\n",
    "            for p in range(P):\n",
    "                V_new = (np.abs(pilot[sim, :, :, p]) ** 2).dot(v[:, :, p])\n",
    "                Z_new = pilot[sim, :, :, p].dot(xhat[sim, :, :, p]) - (y[sim, :, :, p] - Z[:, :, p]) / (nvar[p] + V[:, :, p]) * V_new\n",
    "                V[:, :, p] = damp * V[:, :, p] + (1 - damp) * V_new\n",
    "                Z[:, :, p] = damp * Z[:, :, p] + (1 - damp) * Z_new\n",
    "                S[:, :, p] = 1 / (np.abs(pilot[sim, :, :, p]) ** 2).T.dot(1 / (nvar[p] + V[:, :, p]))\n",
    "                R[:, :, p] = (np.conj(pilot[sim, :, :, p]).T.dot((y[sim, :, :, p] - Z[:, :, p]) / (nvar[p] + V[:, :, p]))) * S[:, :, p] + xhat[sim, :, :, p]\n",
    "                L[:, :, p] = 0.5 * (np.log(S[:, :, p] / (S[:, :, p] + xvar)) + np.abs(R[:, :, p]) ** 2 / S[:, :, p] - (np.abs(R[:, :, p] - xmean)) ** 2 / (S[:, :, p] + xvar))\n",
    "                lamda[sim, :, :, p] /= lamda[sim, :, :, p] + (1 - lamda[sim, :, :, p]) * np.exp(-L[:, :, p])\n",
    "                m[:, :, p] = (xvar * R[:, :, p] + xmean * S[:, :, p]) / (S[:, :, p] + xvar)\n",
    "                Vrs[:, :, p] = xvar * S[:, :, p] / (xvar + S[:, :, p])\n",
    "                xhat[sim, :, :, p] = lamda[sim, :, :, p] * m[:, :, p]\n",
    "                v[:, :, p] = lamda[sim, :, :, p] * (np.abs(m[:, :, p]) ** 2 + Vrs[:, :, p]) - np.abs(xhat[sim, :, :, p]) ** 2\n",
    "                nvar[p] = np.sum(np.abs(y[sim, :, :, p] - Z[:, :, p]) ** 2 / np.abs(1 + V[:, :, p] / nvar[p]) ** 2 + V[:, :, p] / (1 + V[:, :, p] / nvar[p])) / (G * M)\n",
    "            xmean = np.sum(lamda[sim] * m) / np.sum(lamda[sim])\n",
    "            xvar = np.sum(lamda[sim] * (np.abs(xmean - m) ** 2 + Vrs)) / np.sum(lamda[sim])\n",
    "            \n",
    "            if P == 1:\n",
    "                pi = lamda[sim]\n",
    "                pi_update = np.sum(pi, axis=1) / M\n",
    "                for k in range(K):\n",
    "                    lamda[sim, k] = pi_update[k]\n",
    "            else:\n",
    "                pi = np.transpose(lamda[sim], (1, 2, 0))\n",
    "                pi_update = np.sum(pi) / (M * P)\n",
    "                for k in range(K):\n",
    "                    lamda[sim, k] = pi_update[k]\n",
    "            \n",
    "            NMSE_watch[sim, it] = np.linalg.norm(x_pre - xhat[sim]) / np.linalg.norm(xhat[sim])\n",
    "            if NMSE_watch[sim, it] < tol:\n",
    "                iteration[sim] = it\n",
    "                break\n",
    "    return xhat, lamda, iteration, NMSE_watch"
   ]
  },
  {
   "cell_type": "code",
   "execution_count": 9,
   "metadata": {
    "pycharm": {
     "is_executing": false,
     "metadata": false,
     "name": "#%%\n"
    }
   },
   "outputs": [],
   "source": [
    "def lamda_aud(lamda, N_bs):\n",
    "    batch_size, K, M, P = lamda.shape\n",
    "    act_lam = np.zeros((batch_size, K))\n",
    "    act_lam[np.sum(lamda > 0.5, axis=(2, 3)) > 0.9 * N_bs * P] = 1\n",
    "    return act_lam\n",
    "\n",
    "def channel_aud(H, N_bs):\n",
    "    batch_size, K, M, P = H.shape\n",
    "    act_ch = np.zeros((batch_size, K))\n",
    "    p_th = np.max(np.abs(H), axis=(1, 2, 3), keepdims=True) * 0.01\n",
    "    act_ch[np.sum((np.abs(H) > p_th), axis=(2, 3)) > 0.9 * N_bs * P] = 1\n",
    "    return act_ch\n",
    "\n",
    "def performance(det_act, true_act, det_H, true_H):\n",
    "    _, K = det_act.shape\n",
    "    Pe = np.mean(np.sum(np.abs(det_act - true_act), axis=1) / K)\n",
    "    FA = np.mean(np.sum((det_act - true_act) == 1, axis=1) / K)\n",
    "    PM = np.mean(np.sum((det_act - true_act) == -1, axis=1) / K)\n",
    "    NMSE = np.linalg.norm(det_H - true_H) ** 2 / np.linalg.norm(true_H) ** 2\n",
    "    return Pe, FA, PM, NMSE"
   ]
  },
  {
   "cell_type": "markdown",
   "metadata": {
    "pycharm": {}
   },
   "source": [
    "Hyper Parameters"
   ]
  },
  {
   "cell_type": "code",
   "execution_count": 70,
   "metadata": {
    "pycharm": {
     "is_executing": false
    }
   },
   "outputs": [],
   "source": [
    "params = {\n",
    "    'K': 500, # number of potential users\n",
    "    'Ka': 100, # number of active users\n",
    "    'N_bs': 64, # number of receiver antennas\n",
    "    'N_ms': 1, # number of user antennas\n",
    "    'fc': 2e9, # frequency of carrier\n",
    "    'sigma2alpha': 1, # average power of path\n",
    "    'Bw': 1e7, # bandwidth\n",
    "    'fs': 1e7, # frequency of sampling\n",
    "    'N': 2048, # number of carriers\n",
    "    'P': 1, # length of pilot\n",
    "    'Lp_min': 8, # min number of pathes\n",
    "    'Lp_max': 14, # max number of pathes\n",
    "    'snr': 20, # SNR in dB\n",
    "    'simulations': 300, # total simulation numbers\n",
    "    'T_set': np.arange(30, 82, 2), # choices for time overhead\n",
    "    'Ka_set': np.arange(30, 155, 5), # choices for number of active users\n",
    "}\n",
    "delta_p = np.floor(params['N'] / params['P']).astype(int)\n",
    "P_set = np.linspace(delta_p, params['P'] * delta_p, params['P'])\n",
    "params.update({'P_set':  P_set})\n",
    "nvar = 10 ** (-params['snr'] / 10)\n",
    "params.update({'nvar': nvar})"
   ]
  },
  {
   "cell_type": "code",
   "execution_count": 65,
   "metadata": {
    "pycharm": {
     "is_executing": false
    }
   },
   "outputs": [
    {
     "name": "stderr",
     "output_type": "stream",
     "text": [
      "C:\\Users\\Cbx\\Anaconda3\\envs\\EE369\\lib\\site-packages\\ipykernel_launcher.py:13: RuntimeWarning: divide by zero encountered in true_divide\n",
      "  del sys.path[0]\n"
     ]
    },
    {
     "data": {
      "application/vnd.jupyter.widget-view+json": {
       "model_id": "7d39cbcc7c3e48feac0d69a93124b7e3",
       "version_major": 2,
       "version_minor": 0
      },
      "text/plain": [
       "HBox(children=(IntProgress(value=0, description='simulation', max=300, style=ProgressStyle(description_width='…"
      ]
     },
     "metadata": {},
     "output_type": "display_data"
    },
    {
     "name": "stdout",
     "output_type": "stream",
     "text": [
      "\n"
     ]
    },
    {
     "data": {
      "application/vnd.jupyter.widget-view+json": {
       "model_id": "5fc89bbab5e4432cacf51acfb210cd8f",
       "version_major": 2,
       "version_minor": 0
      },
      "text/plain": [
       "HBox(children=(IntProgress(value=0, description='simulation', max=300, style=ProgressStyle(description_width='…"
      ]
     },
     "metadata": {},
     "output_type": "display_data"
    },
    {
     "name": "stdout",
     "output_type": "stream",
     "text": [
      "\n"
     ]
    },
    {
     "data": {
      "application/vnd.jupyter.widget-view+json": {
       "model_id": "5f18d2568c7d4b9aa2dc0d37538cb46a",
       "version_major": 2,
       "version_minor": 0
      },
      "text/plain": [
       "HBox(children=(IntProgress(value=0, description='simulation', max=300, style=ProgressStyle(description_width='…"
      ]
     },
     "metadata": {},
     "output_type": "display_data"
    },
    {
     "name": "stdout",
     "output_type": "stream",
     "text": [
      "\n"
     ]
    },
    {
     "data": {
      "application/vnd.jupyter.widget-view+json": {
       "model_id": "90a7df77d98e47a389154eadd85e58dc",
       "version_major": 2,
       "version_minor": 0
      },
      "text/plain": [
       "HBox(children=(IntProgress(value=0, description='simulation', max=300, style=ProgressStyle(description_width='…"
      ]
     },
     "metadata": {},
     "output_type": "display_data"
    },
    {
     "name": "stdout",
     "output_type": "stream",
     "text": [
      "\n"
     ]
    },
    {
     "data": {
      "application/vnd.jupyter.widget-view+json": {
       "model_id": "02d6dcc26d9540c89c684f6603856d5e",
       "version_major": 2,
       "version_minor": 0
      },
      "text/plain": [
       "HBox(children=(IntProgress(value=0, description='simulation', max=300, style=ProgressStyle(description_width='…"
      ]
     },
     "metadata": {},
     "output_type": "display_data"
    },
    {
     "name": "stdout",
     "output_type": "stream",
     "text": [
      "\n"
     ]
    },
    {
     "data": {
      "application/vnd.jupyter.widget-view+json": {
       "model_id": "9f8fad8c63ad42a1bf0a7ac0bd694a9e",
       "version_major": 2,
       "version_minor": 0
      },
      "text/plain": [
       "HBox(children=(IntProgress(value=0, description='simulation', max=300, style=ProgressStyle(description_width='…"
      ]
     },
     "metadata": {},
     "output_type": "display_data"
    },
    {
     "name": "stdout",
     "output_type": "stream",
     "text": [
      "\n"
     ]
    },
    {
     "data": {
      "application/vnd.jupyter.widget-view+json": {
       "model_id": "13dc04bc264e4202b469a8e503bb313b",
       "version_major": 2,
       "version_minor": 0
      },
      "text/plain": [
       "HBox(children=(IntProgress(value=0, description='simulation', max=300, style=ProgressStyle(description_width='…"
      ]
     },
     "metadata": {},
     "output_type": "display_data"
    },
    {
     "name": "stdout",
     "output_type": "stream",
     "text": [
      "\n"
     ]
    },
    {
     "data": {
      "application/vnd.jupyter.widget-view+json": {
       "model_id": "90bcbf9380694d6a91ced620ff0ff93c",
       "version_major": 2,
       "version_minor": 0
      },
      "text/plain": [
       "HBox(children=(IntProgress(value=0, description='simulation', max=300, style=ProgressStyle(description_width='…"
      ]
     },
     "metadata": {},
     "output_type": "display_data"
    },
    {
     "name": "stdout",
     "output_type": "stream",
     "text": [
      "\n"
     ]
    },
    {
     "data": {
      "application/vnd.jupyter.widget-view+json": {
       "model_id": "242478902d08490e992429d8157be6ef",
       "version_major": 2,
       "version_minor": 0
      },
      "text/plain": [
       "HBox(children=(IntProgress(value=0, description='simulation', max=300, style=ProgressStyle(description_width='…"
      ]
     },
     "metadata": {},
     "output_type": "display_data"
    },
    {
     "name": "stdout",
     "output_type": "stream",
     "text": [
      "\n"
     ]
    },
    {
     "data": {
      "application/vnd.jupyter.widget-view+json": {
       "model_id": "d2e3b93d0b854cc4a2260e918aec466d",
       "version_major": 2,
       "version_minor": 0
      },
      "text/plain": [
       "HBox(children=(IntProgress(value=0, description='simulation', max=300, style=ProgressStyle(description_width='…"
      ]
     },
     "metadata": {},
     "output_type": "display_data"
    },
    {
     "name": "stdout",
     "output_type": "stream",
     "text": [
      "\n"
     ]
    },
    {
     "data": {
      "application/vnd.jupyter.widget-view+json": {
       "model_id": "63a92671b70b43de91f40dd026ea9517",
       "version_major": 2,
       "version_minor": 0
      },
      "text/plain": [
       "HBox(children=(IntProgress(value=0, description='simulation', max=300, style=ProgressStyle(description_width='…"
      ]
     },
     "metadata": {},
     "output_type": "display_data"
    },
    {
     "name": "stdout",
     "output_type": "stream",
     "text": [
      "\n"
     ]
    },
    {
     "data": {
      "application/vnd.jupyter.widget-view+json": {
       "model_id": "db897092753641ed823fcf6773654123",
       "version_major": 2,
       "version_minor": 0
      },
      "text/plain": [
       "HBox(children=(IntProgress(value=0, description='simulation', max=300, style=ProgressStyle(description_width='…"
      ]
     },
     "metadata": {},
     "output_type": "display_data"
    },
    {
     "name": "stdout",
     "output_type": "stream",
     "text": [
      "\n"
     ]
    },
    {
     "data": {
      "application/vnd.jupyter.widget-view+json": {
       "model_id": "1fdb0071773a4c109f1b17b88edb327e",
       "version_major": 2,
       "version_minor": 0
      },
      "text/plain": [
       "HBox(children=(IntProgress(value=0, description='simulation', max=300, style=ProgressStyle(description_width='…"
      ]
     },
     "metadata": {},
     "output_type": "display_data"
    },
    {
     "name": "stdout",
     "output_type": "stream",
     "text": [
      "\n"
     ]
    },
    {
     "data": {
      "application/vnd.jupyter.widget-view+json": {
       "model_id": "ff15f0033e684a5a8e4b4a5b43980d7a",
       "version_major": 2,
       "version_minor": 0
      },
      "text/plain": [
       "HBox(children=(IntProgress(value=0, description='simulation', max=300, style=ProgressStyle(description_width='…"
      ]
     },
     "metadata": {},
     "output_type": "display_data"
    },
    {
     "name": "stdout",
     "output_type": "stream",
     "text": [
      "\n"
     ]
    },
    {
     "data": {
      "application/vnd.jupyter.widget-view+json": {
       "model_id": "af2637e2cf9b4240aaaa5bc5dc3e9d99",
       "version_major": 2,
       "version_minor": 0
      },
      "text/plain": [
       "HBox(children=(IntProgress(value=0, description='simulation', max=300, style=ProgressStyle(description_width='…"
      ]
     },
     "metadata": {},
     "output_type": "display_data"
    },
    {
     "name": "stdout",
     "output_type": "stream",
     "text": [
      "\n"
     ]
    },
    {
     "data": {
      "application/vnd.jupyter.widget-view+json": {
       "model_id": "857859ed9b8a4f80b73460a326c1acf0",
       "version_major": 2,
       "version_minor": 0
      },
      "text/plain": [
       "HBox(children=(IntProgress(value=0, description='simulation', max=300, style=ProgressStyle(description_width='…"
      ]
     },
     "metadata": {},
     "output_type": "display_data"
    },
    {
     "name": "stdout",
     "output_type": "stream",
     "text": [
      "\n"
     ]
    },
    {
     "data": {
      "application/vnd.jupyter.widget-view+json": {
       "model_id": "67ee901bd8f04cc3a50e4989934c6a8d",
       "version_major": 2,
       "version_minor": 0
      },
      "text/plain": [
       "HBox(children=(IntProgress(value=0, description='simulation', max=300, style=ProgressStyle(description_width='…"
      ]
     },
     "metadata": {},
     "output_type": "display_data"
    },
    {
     "name": "stdout",
     "output_type": "stream",
     "text": [
      "\n"
     ]
    },
    {
     "data": {
      "application/vnd.jupyter.widget-view+json": {
       "model_id": "96b5578a1d3d4cbb8926718133ed64d2",
       "version_major": 2,
       "version_minor": 0
      },
      "text/plain": [
       "HBox(children=(IntProgress(value=0, description='simulation', max=300, style=ProgressStyle(description_width='…"
      ]
     },
     "metadata": {},
     "output_type": "display_data"
    },
    {
     "name": "stdout",
     "output_type": "stream",
     "text": [
      "\n"
     ]
    },
    {
     "data": {
      "application/vnd.jupyter.widget-view+json": {
       "model_id": "0ed6a31919e84252b4ac5b5e043b033a",
       "version_major": 2,
       "version_minor": 0
      },
      "text/plain": [
       "HBox(children=(IntProgress(value=0, description='simulation', max=300, style=ProgressStyle(description_width='…"
      ]
     },
     "metadata": {},
     "output_type": "display_data"
    },
    {
     "name": "stdout",
     "output_type": "stream",
     "text": [
      "\n"
     ]
    },
    {
     "data": {
      "application/vnd.jupyter.widget-view+json": {
       "model_id": "4b9894628ad74936a4e522bc5d853b6d",
       "version_major": 2,
       "version_minor": 0
      },
      "text/plain": [
       "HBox(children=(IntProgress(value=0, description='simulation', max=300, style=ProgressStyle(description_width='…"
      ]
     },
     "metadata": {},
     "output_type": "display_data"
    },
    {
     "name": "stdout",
     "output_type": "stream",
     "text": [
      "\n"
     ]
    },
    {
     "data": {
      "application/vnd.jupyter.widget-view+json": {
       "model_id": "52863fc1e9214aab92e4fc2f1e27adf0",
       "version_major": 2,
       "version_minor": 0
      },
      "text/plain": [
       "HBox(children=(IntProgress(value=0, description='simulation', max=300, style=ProgressStyle(description_width='…"
      ]
     },
     "metadata": {},
     "output_type": "display_data"
    },
    {
     "name": "stdout",
     "output_type": "stream",
     "text": [
      "\n"
     ]
    },
    {
     "data": {
      "application/vnd.jupyter.widget-view+json": {
       "model_id": "1c540aba863e407682524b3c78a3e72d",
       "version_major": 2,
       "version_minor": 0
      },
      "text/plain": [
       "HBox(children=(IntProgress(value=0, description='simulation', max=300, style=ProgressStyle(description_width='…"
      ]
     },
     "metadata": {},
     "output_type": "display_data"
    },
    {
     "name": "stdout",
     "output_type": "stream",
     "text": [
      "\n"
     ]
    },
    {
     "data": {
      "application/vnd.jupyter.widget-view+json": {
       "model_id": "3037f4f64c93425bbd36005ace55fcb9",
       "version_major": 2,
       "version_minor": 0
      },
      "text/plain": [
       "HBox(children=(IntProgress(value=0, description='simulation', max=300, style=ProgressStyle(description_width='…"
      ]
     },
     "metadata": {},
     "output_type": "display_data"
    },
    {
     "name": "stdout",
     "output_type": "stream",
     "text": [
      "\n"
     ]
    },
    {
     "data": {
      "application/vnd.jupyter.widget-view+json": {
       "model_id": "ae4272541c024242a9782534c533ce07",
       "version_major": 2,
       "version_minor": 0
      },
      "text/plain": [
       "HBox(children=(IntProgress(value=0, description='simulation', max=300, style=ProgressStyle(description_width='…"
      ]
     },
     "metadata": {},
     "output_type": "display_data"
    },
    {
     "name": "stdout",
     "output_type": "stream",
     "text": [
      "\n"
     ]
    },
    {
     "data": {
      "application/vnd.jupyter.widget-view+json": {
       "model_id": "75f29c11cf7c487b912aceb6f4f030e9",
       "version_major": 2,
       "version_minor": 0
      },
      "text/plain": [
       "HBox(children=(IntProgress(value=0, description='simulation', max=300, style=ProgressStyle(description_width='…"
      ]
     },
     "metadata": {},
     "output_type": "display_data"
    },
    {
     "name": "stdout",
     "output_type": "stream",
     "text": [
      "\n"
     ]
    },
    {
     "data": {
      "application/vnd.jupyter.widget-view+json": {
       "model_id": "ed93d217b25646f09da985ec93acbfab",
       "version_major": 2,
       "version_minor": 0
      },
      "text/plain": [
       "HBox(children=(IntProgress(value=0, description='simulation', max=300, style=ProgressStyle(description_width='…"
      ]
     },
     "metadata": {},
     "output_type": "display_data"
    },
    {
     "name": "stdout",
     "output_type": "stream",
     "text": [
      "\n"
     ]
    }
   ],
   "source": [
    "Pe_p = np.zeros(params['T_set'].shape)\n",
    "FA_p = np.zeros(params['T_set'].shape)\n",
    "FM_p = np.zeros(params['T_set'].shape)\n",
    "NMSE = np.zeros(params['T_set'].shape)\n",
    "Pe_h = np.zeros(params['T_set'].shape)\n",
    "FA_h = np.zeros(params['T_set'].shape)\n",
    "FM_h = np.zeros(params['T_set'].shape)\n",
    "for i, T in enumerate(params['T_set']):\n",
    "    H_f, H_a, activity = generate_batched_active_channel(params)\n",
    "    pilot = generate_random_pilot(T, params['K'], params['P'], params['simulations'])\n",
    "    y = pilot_through_channel(pilot, H_f, params['nvar'])\n",
    "    \n",
    "    xhat, lamda, iteration, NMSE_watch = dmmv_amp_detection(y, pilot)\n",
    "    \n",
    "    act_lam = lamda_aud(lamda, params['N_bs'])\n",
    "    act_ch = channel_aud(xhat, params['N_bs'])\n",
    "    Pe_p[i], FA_p[i], FM_p[i], NMSE[i] = performance(act_lam, activity, xhat, H_f)\n",
    "    Pe_h[i], FA_h[i], FM_h[i], _ = performance(act_ch, activity, xhat, H_f)\n"
   ]
  },
  {
   "cell_type": "code",
   "execution_count": 83,
   "metadata": {},
   "outputs": [],
   "source": [
    "from matplotlib import rc\n",
    "rc('font',**{'family':'serif','serif':['Palatino']})\n",
    "## for Palatino and other serif fonts use:\n",
    "#rc('font',**{'family':'serif','serif':['Palatino']})\n",
    "rc('text', usetex=True)"
   ]
  },
  {
   "cell_type": "code",
   "execution_count": 69,
   "metadata": {
    "pycharm": {
     "is_executing": false,
     "metadata": false,
     "name": "#%%\n"
    }
   },
   "outputs": [
    {
     "data": {
      "image/png": "[encoded data removed]",
      "text/plain": [
       "<Figure size 432x288 with 1 Axes>"
      ]
     },
     "metadata": {
      "needs_background": "light"
     },
     "output_type": "display_data"
    }
   ],
   "source": [
    "plt.semilogy(params['T_set'], Pe_p, '-o')\n",
    "plt.semilogy(params['T_set'], Pe_h, '--^')\n",
    "plt.xlim([30, 80])\n",
    "plt.grid(True, linestyle='-.')\n",
    "plt.minorticks_on()\n",
    "plt.grid(b=True, which='minor', color='#999999', linestyle='-.', alpha=0.2)\n",
    "plt.legend(['$P_e^{param}$', '$P_e^{ch}$'])\n",
    "plt.xlabel('Time Overhead $G/time\\ slot$')\n",
    "plt.ylabel('Error Probability $P_e$')\n",
    "plt.savefig(fname='Probability_of_errorKa100.pdf')\n",
    "plt.show()"
   ]
  },
  {
   "cell_type": "code",
   "execution_count": 67,
   "metadata": {},
   "outputs": [
    {
     "data": {
      "image/png": "[encoded data removed]",
      "text/plain": [
       "<Figure size 432x288 with 1 Axes>"
      ]
     },
     "metadata": {
      "needs_background": "light"
     },
     "output_type": "display_data"
    }
   ],
   "source": [
    "plt.semilogy(params['T_set'], NMSE, 'r-o')\n",
    "plt.xlim([30, 80])\n",
    "plt.grid(which='major', linestyle='-.')\n",
    "plt.minorticks_on()\n",
    "plt.grid(b=True, which='minor', color='#999999', linestyle='-.', alpha=0.2)\n",
    "plt.xlabel('Time Overhead $G/time\\ slot$')\n",
    "plt.ylabel('NMSE')\n",
    "plt.savefig(fname='NMSEKa100.pdf')\n",
    "plt.show()"
   ]
  },
  {
   "cell_type": "code",
   "execution_count": 68,
   "metadata": {},
   "outputs": [],
   "source": [
    "np.savez('K500Ka100NBS64SNR20sim300AMP.npz', Pe_p, FM_p, FA_p, Pe_h, FM_h, FA_h, NMSE)"
   ]
  },
  {
   "cell_type": "code",
   "execution_count": 71,
   "metadata": {},
   "outputs": [
    {
     "name": "stderr",
     "output_type": "stream",
     "text": [
      "C:\\Users\\Cbx\\Anaconda3\\envs\\EE369\\lib\\site-packages\\ipykernel_launcher.py:13: RuntimeWarning: divide by zero encountered in true_divide\n",
      "  del sys.path[0]\n"
     ]
    },
    {
     "data": {
      "application/vnd.jupyter.widget-view+json": {
       "model_id": "4fdf6a470e0e4914ae7fe6ec89327fae",
       "version_major": 2,
       "version_minor": 0
      },
      "text/plain": [
       "HBox(children=(IntProgress(value=0, description='simulation', max=300, style=ProgressStyle(description_width='…"
      ]
     },
     "metadata": {},
     "output_type": "display_data"
    },
    {
     "name": "stdout",
     "output_type": "stream",
     "text": [
      "\n"
     ]
    },
    {
     "data": {
      "application/vnd.jupyter.widget-view+json": {
       "model_id": "05a1d6875a174418b464f75484adf6a8",
       "version_major": 2,
       "version_minor": 0
      },
      "text/plain": [
       "HBox(children=(IntProgress(value=0, description='simulation', max=300, style=ProgressStyle(description_width='…"
      ]
     },
     "metadata": {},
     "output_type": "display_data"
    },
    {
     "name": "stdout",
     "output_type": "stream",
     "text": [
      "\n"
     ]
    },
    {
     "data": {
      "application/vnd.jupyter.widget-view+json": {
       "model_id": "8657755f99c4476685c197b369b7327c",
       "version_major": 2,
       "version_minor": 0
      },
      "text/plain": [
       "HBox(children=(IntProgress(value=0, description='simulation', max=300, style=ProgressStyle(description_width='…"
      ]
     },
     "metadata": {},
     "output_type": "display_data"
    },
    {
     "name": "stdout",
     "output_type": "stream",
     "text": [
      "\n"
     ]
    },
    {
     "data": {
      "application/vnd.jupyter.widget-view+json": {
       "model_id": "1b474b53ca2d4e3a8b4915b33ba26d7b",
       "version_major": 2,
       "version_minor": 0
      },
      "text/plain": [
       "HBox(children=(IntProgress(value=0, description='simulation', max=300, style=ProgressStyle(description_width='…"
      ]
     },
     "metadata": {},
     "output_type": "display_data"
    },
    {
     "name": "stdout",
     "output_type": "stream",
     "text": [
      "\n"
     ]
    },
    {
     "data": {
      "application/vnd.jupyter.widget-view+json": {
       "model_id": "864c475a2cea4aa883c3dc5938bb7df0",
       "version_major": 2,
       "version_minor": 0
      },
      "text/plain": [
       "HBox(children=(IntProgress(value=0, description='simulation', max=300, style=ProgressStyle(description_width='…"
      ]
     },
     "metadata": {},
     "output_type": "display_data"
    },
    {
     "name": "stdout",
     "output_type": "stream",
     "text": [
      "\n"
     ]
    },
    {
     "data": {
      "application/vnd.jupyter.widget-view+json": {
       "model_id": "fc6cb695c4c74e10894093084b1ed19b",
       "version_major": 2,
       "version_minor": 0
      },
      "text/plain": [
       "HBox(children=(IntProgress(value=0, description='simulation', max=300, style=ProgressStyle(description_width='…"
      ]
     },
     "metadata": {},
     "output_type": "display_data"
    },
    {
     "name": "stdout",
     "output_type": "stream",
     "text": [
      "\n"
     ]
    },
    {
     "data": {
      "application/vnd.jupyter.widget-view+json": {
       "model_id": "6d6e0e0ed78947cb9c64ad7603e76739",
       "version_major": 2,
       "version_minor": 0
      },
      "text/plain": [
       "HBox(children=(IntProgress(value=0, description='simulation', max=300, style=ProgressStyle(description_width='…"
      ]
     },
     "metadata": {},
     "output_type": "display_data"
    },
    {
     "name": "stdout",
     "output_type": "stream",
     "text": [
      "\n"
     ]
    },
    {
     "data": {
      "application/vnd.jupyter.widget-view+json": {
       "model_id": "f840bc8959414f07b3f673b196bf19ae",
       "version_major": 2,
       "version_minor": 0
      },
      "text/plain": [
       "HBox(children=(IntProgress(value=0, description='simulation', max=300, style=ProgressStyle(description_width='…"
      ]
     },
     "metadata": {},
     "output_type": "display_data"
    },
    {
     "name": "stdout",
     "output_type": "stream",
     "text": [
      "\n"
     ]
    },
    {
     "data": {
      "application/vnd.jupyter.widget-view+json": {
       "model_id": "e4092a4605414c41bcc0cb42f34d0291",
       "version_major": 2,
       "version_minor": 0
      },
      "text/plain": [
       "HBox(children=(IntProgress(value=0, description='simulation', max=300, style=ProgressStyle(description_width='…"
      ]
     },
     "metadata": {},
     "output_type": "display_data"
    },
    {
     "name": "stdout",
     "output_type": "stream",
     "text": [
      "\n"
     ]
    },
    {
     "data": {
      "application/vnd.jupyter.widget-view+json": {
       "model_id": "2310de3c3d784d819859228ba4d50e60",
       "version_major": 2,
       "version_minor": 0
      },
      "text/plain": [
       "HBox(children=(IntProgress(value=0, description='simulation', max=300, style=ProgressStyle(description_width='…"
      ]
     },
     "metadata": {},
     "output_type": "display_data"
    },
    {
     "name": "stdout",
     "output_type": "stream",
     "text": [
      "\n"
     ]
    },
    {
     "data": {
      "application/vnd.jupyter.widget-view+json": {
       "model_id": "12e48505bd71454aabdb2358c27776a6",
       "version_major": 2,
       "version_minor": 0
      },
      "text/plain": [
       "HBox(children=(IntProgress(value=0, description='simulation', max=300, style=ProgressStyle(description_width='…"
      ]
     },
     "metadata": {},
     "output_type": "display_data"
    },
    {
     "name": "stdout",
     "output_type": "stream",
     "text": [
      "\n"
     ]
    },
    {
     "data": {
      "application/vnd.jupyter.widget-view+json": {
       "model_id": "1c4ec10719e64b03a424b7300c4e8713",
       "version_major": 2,
       "version_minor": 0
      },
      "text/plain": [
       "HBox(children=(IntProgress(value=0, description='simulation', max=300, style=ProgressStyle(description_width='…"
      ]
     },
     "metadata": {},
     "output_type": "display_data"
    },
    {
     "name": "stdout",
     "output_type": "stream",
     "text": [
      "\n"
     ]
    },
    {
     "data": {
      "application/vnd.jupyter.widget-view+json": {
       "model_id": "c648e5b7d52e4ba4bb37be7f67fa7d30",
       "version_major": 2,
       "version_minor": 0
      },
      "text/plain": [
       "HBox(children=(IntProgress(value=0, description='simulation', max=300, style=ProgressStyle(description_width='…"
      ]
     },
     "metadata": {},
     "output_type": "display_data"
    },
    {
     "name": "stdout",
     "output_type": "stream",
     "text": [
      "\n"
     ]
    },
    {
     "data": {
      "application/vnd.jupyter.widget-view+json": {
       "model_id": "5b1f2d05999b4905b391f090f1b62d5d",
       "version_major": 2,
       "version_minor": 0
      },
      "text/plain": [
       "HBox(children=(IntProgress(value=0, description='simulation', max=300, style=ProgressStyle(description_width='…"
      ]
     },
     "metadata": {},
     "output_type": "display_data"
    },
    {
     "name": "stdout",
     "output_type": "stream",
     "text": [
      "\n"
     ]
    },
    {
     "data": {
      "application/vnd.jupyter.widget-view+json": {
       "model_id": "662a8ff3d390465e9b0b209c445b7bd1",
       "version_major": 2,
       "version_minor": 0
      },
      "text/plain": [
       "HBox(children=(IntProgress(value=0, description='simulation', max=300, style=ProgressStyle(description_width='…"
      ]
     },
     "metadata": {},
     "output_type": "display_data"
    },
    {
     "name": "stdout",
     "output_type": "stream",
     "text": [
      "\n"
     ]
    },
    {
     "data": {
      "application/vnd.jupyter.widget-view+json": {
       "model_id": "8fa61b4bd9464eebb573403e8ca407f9",
       "version_major": 2,
       "version_minor": 0
      },
      "text/plain": [
       "HBox(children=(IntProgress(value=0, description='simulation', max=300, style=ProgressStyle(description_width='…"
      ]
     },
     "metadata": {},
     "output_type": "display_data"
    },
    {
     "name": "stdout",
     "output_type": "stream",
     "text": [
      "\n"
     ]
    },
    {
     "data": {
      "application/vnd.jupyter.widget-view+json": {
       "model_id": "391f5e11842746ad966e647af35413ba",
       "version_major": 2,
       "version_minor": 0
      },
      "text/plain": [
       "HBox(children=(IntProgress(value=0, description='simulation', max=300, style=ProgressStyle(description_width='…"
      ]
     },
     "metadata": {},
     "output_type": "display_data"
    },
    {
     "name": "stdout",
     "output_type": "stream",
     "text": [
      "\n"
     ]
    },
    {
     "data": {
      "application/vnd.jupyter.widget-view+json": {
       "model_id": "5861dbf8d80a453dafa64fc67ef780ad",
       "version_major": 2,
       "version_minor": 0
      },
      "text/plain": [
       "HBox(children=(IntProgress(value=0, description='simulation', max=300, style=ProgressStyle(description_width='…"
      ]
     },
     "metadata": {},
     "output_type": "display_data"
    },
    {
     "name": "stdout",
     "output_type": "stream",
     "text": [
      "\n"
     ]
    },
    {
     "data": {
      "application/vnd.jupyter.widget-view+json": {
       "model_id": "f7a7074be4f2412ab7c61e8985c1e817",
       "version_major": 2,
       "version_minor": 0
      },
      "text/plain": [
       "HBox(children=(IntProgress(value=0, description='simulation', max=300, style=ProgressStyle(description_width='…"
      ]
     },
     "metadata": {},
     "output_type": "display_data"
    },
    {
     "name": "stdout",
     "output_type": "stream",
     "text": [
      "\n"
     ]
    },
    {
     "data": {
      "application/vnd.jupyter.widget-view+json": {
       "model_id": "6a30131275cf49ac8954b2019ba95f09",
       "version_major": 2,
       "version_minor": 0
      },
      "text/plain": [
       "HBox(children=(IntProgress(value=0, description='simulation', max=300, style=ProgressStyle(description_width='…"
      ]
     },
     "metadata": {},
     "output_type": "display_data"
    },
    {
     "name": "stdout",
     "output_type": "stream",
     "text": [
      "\n"
     ]
    },
    {
     "data": {
      "application/vnd.jupyter.widget-view+json": {
       "model_id": "4284af2eb2a14e34a4bfc6b3298459c2",
       "version_major": 2,
       "version_minor": 0
      },
      "text/plain": [
       "HBox(children=(IntProgress(value=0, description='simulation', max=300, style=ProgressStyle(description_width='…"
      ]
     },
     "metadata": {},
     "output_type": "display_data"
    },
    {
     "name": "stdout",
     "output_type": "stream",
     "text": [
      "\n"
     ]
    },
    {
     "data": {
      "application/vnd.jupyter.widget-view+json": {
       "model_id": "20cc63c8439d4b0081a2b92901f3ea59",
       "version_major": 2,
       "version_minor": 0
      },
      "text/plain": [
       "HBox(children=(IntProgress(value=0, description='simulation', max=300, style=ProgressStyle(description_width='…"
      ]
     },
     "metadata": {},
     "output_type": "display_data"
    },
    {
     "name": "stdout",
     "output_type": "stream",
     "text": [
      "\n"
     ]
    },
    {
     "data": {
      "application/vnd.jupyter.widget-view+json": {
       "model_id": "7253119a7cac446781d639fde868374a",
       "version_major": 2,
       "version_minor": 0
      },
      "text/plain": [
       "HBox(children=(IntProgress(value=0, description='simulation', max=300, style=ProgressStyle(description_width='…"
      ]
     },
     "metadata": {},
     "output_type": "display_data"
    },
    {
     "name": "stdout",
     "output_type": "stream",
     "text": [
      "\n"
     ]
    },
    {
     "data": {
      "application/vnd.jupyter.widget-view+json": {
       "model_id": "75cb4f0863c44f39bd44c8c14f735ee8",
       "version_major": 2,
       "version_minor": 0
      },
      "text/plain": [
       "HBox(children=(IntProgress(value=0, description='simulation', max=300, style=ProgressStyle(description_width='…"
      ]
     },
     "metadata": {},
     "output_type": "display_data"
    },
    {
     "name": "stdout",
     "output_type": "stream",
     "text": [
      "\n"
     ]
    },
    {
     "data": {
      "application/vnd.jupyter.widget-view+json": {
       "model_id": "a1c95656e566448d87e2039e8e1ed575",
       "version_major": 2,
       "version_minor": 0
      },
      "text/plain": [
       "HBox(children=(IntProgress(value=0, description='simulation', max=300, style=ProgressStyle(description_width='…"
      ]
     },
     "metadata": {},
     "output_type": "display_data"
    },
    {
     "name": "stdout",
     "output_type": "stream",
     "text": [
      "\n"
     ]
    }
   ],
   "source": [
    "Pe_p = np.zeros(params['Ka_set'].shape)\n",
    "FA_p = np.zeros(params['Ka_set'].shape)\n",
    "FM_p = np.zeros(params['Ka_set'].shape)\n",
    "NMSE = np.zeros(params['Ka_set'].shape)\n",
    "Pe_h = np.zeros(params['Ka_set'].shape)\n",
    "FA_h = np.zeros(params['Ka_set'].shape)\n",
    "FM_h = np.zeros(params['Ka_set'].shape)\n",
    "for i, Ka in enumerate(params['Ka_set']):\n",
    "    params['Ka'] = Ka\n",
    "    H_f, H_a, activity = generate_batched_active_channel(params)\n",
    "    pilot = generate_random_pilot(50, params['K'], params['P'], params['simulations'])\n",
    "    y = pilot_through_channel(pilot, H_f, params['nvar'])\n",
    "    \n",
    "    xhat, lamda, iteration, NMSE_watch = dmmv_amp_detection(y, pilot)\n",
    "    \n",
    "    act_lam = lamda_aud(lamda, params['N_bs'])\n",
    "    act_ch = channel_aud(xhat, params['N_bs'])\n",
    "    Pe_p[i], FA_p[i], FM_p[i], NMSE[i] = performance(act_lam, activity, xhat, H_f)\n",
    "    Pe_h[i], FA_h[i], FM_h[i], _ = performance(act_ch, activity, xhat, H_f)"
   ]
  },
  {
   "cell_type": "code",
   "execution_count": 84,
   "metadata": {},
   "outputs": [
    {
     "name": "stderr",
     "output_type": "stream",
     "text": [
      "findfont: Font family ['serif'] not found. Falling back to DejaVu Sans.\n"
     ]
    },
    {
     "data": {
      "image/png": "[encoded data removed]",
      "text/plain": [
       "<Figure size 432x288 with 1 Axes>"
      ]
     },
     "metadata": {
      "needs_background": "light"
     },
     "output_type": "display_data"
    }
   ],
   "source": [
    "plt.semilogy(params['Ka_set'], Pe_p, '-o')\n",
    "plt.semilogy(params['Ka_set'], Pe_h, '--^')\n",
    "plt.xlim([30, 150])\n",
    "plt.grid(True, linestyle='-.')\n",
    "plt.minorticks_on()\n",
    "plt.grid(b=True, which='minor', color='#999999', linestyle='-.', alpha=0.2)\n",
    "plt.legend(['$P_e^{param}$', '$P_e^{ch}$'])\n",
    "plt.xlabel('Active Users $K_a$')\n",
    "plt.ylabel('Error Probability $P_e$')\n",
    "plt.savefig(fname='Probability_of_errorT50.pdf')\n",
    "plt.show()"
   ]
  },
  {
   "cell_type": "code",
   "execution_count": 81,
   "metadata": {},
   "outputs": [
    {
     "data": {
      "image/png": "[encoded data removed]",
      "text/plain": [
       "<Figure size 432x288 with 1 Axes>"
      ]
     },
     "metadata": {
      "needs_background": "light"
     },
     "output_type": "display_data"
    }
   ],
   "source": [
    "plt.semilogy(params['Ka_set'], NMSE, 'r-o')\n",
    "plt.xlim([30, 150])\n",
    "plt.grid(which='major', linestyle='-.')\n",
    "plt.minorticks_on()\n",
    "plt.grid(b=True, which='minor', color='#999999', linestyle='-.', alpha=0.2)\n",
    "plt.xlabel('Active Users $K_a$')\n",
    "plt.ylabel('NMSE')\n",
    "plt.savefig(fname='NMSET50.pdf')\n",
    "plt.show()"
   ]
  },
  {
   "cell_type": "code",
   "execution_count": 79,
   "metadata": {},
   "outputs": [],
   "source": [
    "np.savez('K500T50NBS64SNR20sim300AMP.npz', Pe_p, FM_p, FA_p, Pe_h, FM_h, FA_h, NMSE)"
   ]
  }
 ],
 "metadata": {
  "kernelspec": {
   "display_name": "Python 3",
   "language": "python",
   "name": "python3"
  },
  "language_info": {
   "codemirror_mode": {
    "name": "ipython",
    "version": 3
   },
   "file_extension": ".py",
   "mimetype": "text/x-python",
   "name": "python",
   "nbconvert_exporter": "python",
   "pygments_lexer": "ipython3",
   "version": "3.7.5"
  }
 },
 "nbformat": 4,
 "nbformat_minor": 2
}
